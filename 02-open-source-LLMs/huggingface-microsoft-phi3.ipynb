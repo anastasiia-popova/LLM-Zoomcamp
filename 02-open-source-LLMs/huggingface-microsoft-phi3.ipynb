{
 "cells": [
  {
   "cell_type": "code",
   "execution_count": 1,
   "id": "b2822be1-7967-4fa6-8fff-47e57c102861",
   "metadata": {
    "execution": {
     "iopub.execute_input": "2024-06-28T14:23:22.628694Z",
     "iopub.status.busy": "2024-06-28T14:23:22.628284Z",
     "iopub.status.idle": "2024-06-28T14:23:24.010076Z",
     "shell.execute_reply": "2024-06-28T14:23:24.009348Z",
     "shell.execute_reply.started": "2024-06-28T14:23:22.628669Z"
    },
    "tags": []
   },
   "outputs": [
    {
     "name": "stdout",
     "output_type": "stream",
     "text": [
      "--2024-06-28 14:23:23--  https://raw.githubusercontent.com/alexeygrigorev/minsearch/main/minsearch.py\n",
      "Resolving raw.githubusercontent.com (raw.githubusercontent.com)... 185.199.108.133, 185.199.111.133, 185.199.109.133, ...\n",
      "Connecting to raw.githubusercontent.com (raw.githubusercontent.com)|185.199.108.133|:443... connected.\n",
      "HTTP request sent, awaiting response... 200 OK\n",
      "Length: 3832 (3.7K) [text/plain]\n",
      "Saving to: ‘minsearch.py’\n",
      "\n",
      "minsearch.py        100%[===================>]   3.74K  --.-KB/s    in 0s      \n",
      "\n",
      "2024-06-28 14:23:23 (43.2 MB/s) - ‘minsearch.py’ saved [3832/3832]\n",
      "\n"
     ]
    }
   ],
   "source": [
    "!rm -f minsearch.py\n",
    "!wget https://raw.githubusercontent.com/alexeygrigorev/minsearch/main/minsearch.py"
   ]
  },
  {
   "cell_type": "code",
   "execution_count": 1,
   "id": "7c738669-d61c-4f59-a51f-b14377736d17",
   "metadata": {
    "execution": {
     "iopub.execute_input": "2024-06-28T15:09:38.605700Z",
     "iopub.status.busy": "2024-06-28T15:09:38.605305Z",
     "iopub.status.idle": "2024-06-28T15:09:39.774975Z",
     "shell.execute_reply": "2024-06-28T15:09:39.774197Z",
     "shell.execute_reply.started": "2024-06-28T15:09:38.605671Z"
    },
    "tags": []
   },
   "outputs": [
    {
     "data": {
      "text/plain": [
       "<minsearch.Index at 0x7f66785e4fa0>"
      ]
     },
     "execution_count": 1,
     "metadata": {},
     "output_type": "execute_result"
    }
   ],
   "source": [
    "# Take database and fit a toy search \n",
    "import requests \n",
    "import minsearch\n",
    "\n",
    "docs_url = 'https://github.com/DataTalksClub/llm-zoomcamp/blob/main/01-intro/documents.json?raw=1'\n",
    "docs_response = requests.get(docs_url)\n",
    "documents_raw = docs_response.json()\n",
    "\n",
    "documents = []\n",
    "\n",
    "for course in documents_raw:\n",
    "    course_name = course['course']\n",
    "\n",
    "    for doc in course['documents']:\n",
    "        doc['course'] = course_name\n",
    "        documents.append(doc)\n",
    "\n",
    "index = minsearch.Index(\n",
    "    text_fields=[\"question\", \"text\", \"section\"],\n",
    "    keyword_fields=[\"course\"]\n",
    ")\n",
    "\n",
    "index.fit(documents)"
   ]
  },
  {
   "cell_type": "code",
   "execution_count": 2,
   "id": "bfe3df6f-8ff1-4e75-89ce-4f99fc59c9d7",
   "metadata": {
    "execution": {
     "iopub.execute_input": "2024-06-28T15:09:41.131337Z",
     "iopub.status.busy": "2024-06-28T15:09:41.130859Z",
     "iopub.status.idle": "2024-06-28T15:09:41.134856Z",
     "shell.execute_reply": "2024-06-28T15:09:41.134113Z",
     "shell.execute_reply.started": "2024-06-28T15:09:41.131311Z"
    },
    "tags": []
   },
   "outputs": [],
   "source": [
    "# Change the directory to store data from HuggingFace in the appropriate location on the SaturnCloud \n",
    "import os\n",
    "os.environ['HF_HOME'] = '/run/cache/'"
   ]
  },
  {
   "cell_type": "markdown",
   "id": "0234fa9e-25be-4f1c-bde5-86d7bc397593",
   "metadata": {},
   "source": [
    "to check the GPU in terminal:  `nvidia-smi `; real-time monitoring: `watch nvidia-smi`\n",
    "\n",
    "(flan-t5 used 11GB, whereas phi3-mini 8 GB)  "
   ]
  },
  {
   "cell_type": "code",
   "execution_count": 3,
   "id": "e1a0d5d2-801b-48e6-8e4e-e1c49ec844d6",
   "metadata": {
    "execution": {
     "iopub.execute_input": "2024-06-28T15:09:45.607318Z",
     "iopub.status.busy": "2024-06-28T15:09:45.606926Z",
     "iopub.status.idle": "2024-06-28T15:09:49.201595Z",
     "shell.execute_reply": "2024-06-28T15:09:49.200626Z",
     "shell.execute_reply.started": "2024-06-28T15:09:45.607293Z"
    },
    "tags": []
   },
   "outputs": [
    {
     "data": {
      "text/plain": [
       "<torch._C.Generator at 0x7f662d9be130>"
      ]
     },
     "execution_count": 3,
     "metadata": {},
     "output_type": "execute_result"
    }
   ],
   "source": [
    "import torch\n",
    "from transformers import AutoModelForCausalLM, AutoTokenizer, pipeline\n",
    "\n",
    "torch.random.manual_seed(0)"
   ]
  },
  {
   "cell_type": "code",
   "execution_count": 4,
   "id": "fabe4a21-ea41-4c90-afdb-ebf10ee66590",
   "metadata": {
    "execution": {
     "iopub.execute_input": "2024-06-28T15:10:42.134704Z",
     "iopub.status.busy": "2024-06-28T15:10:42.134174Z",
     "iopub.status.idle": "2024-06-28T15:11:29.647969Z",
     "shell.execute_reply": "2024-06-28T15:11:29.647021Z",
     "shell.execute_reply.started": "2024-06-28T15:10:42.134673Z"
    },
    "tags": []
   },
   "outputs": [
    {
     "data": {
      "application/vnd.jupyter.widget-view+json": {
       "model_id": "16024bdb12d240db912d040b3378c4cb",
       "version_major": 2,
       "version_minor": 0
      },
      "text/plain": [
       "config.json:   0%|          | 0.00/3.55k [00:00<?, ?B/s]"
      ]
     },
     "metadata": {},
     "output_type": "display_data"
    },
    {
     "data": {
      "application/vnd.jupyter.widget-view+json": {
       "model_id": "43161b3ce63646a2b30b7f4ebb3596ea",
       "version_major": 2,
       "version_minor": 0
      },
      "text/plain": [
       "configuration_phi3.py:   0%|          | 0.00/10.4k [00:00<?, ?B/s]"
      ]
     },
     "metadata": {},
     "output_type": "display_data"
    },
    {
     "name": "stderr",
     "output_type": "stream",
     "text": [
      "A new version of the following files was downloaded from https://huggingface.co/microsoft/Phi-3-mini-128k-instruct:\n",
      "- configuration_phi3.py\n",
      ". Make sure to double-check they do not contain any added malicious code. To avoid downloading new versions of the code file, you can pin a revision.\n"
     ]
    },
    {
     "data": {
      "application/vnd.jupyter.widget-view+json": {
       "model_id": "1af59fcdf9ca49f48002e6d7e7349ee2",
       "version_major": 2,
       "version_minor": 0
      },
      "text/plain": [
       "modeling_phi3.py:   0%|          | 0.00/73.8k [00:00<?, ?B/s]"
      ]
     },
     "metadata": {},
     "output_type": "display_data"
    },
    {
     "name": "stderr",
     "output_type": "stream",
     "text": [
      "A new version of the following files was downloaded from https://huggingface.co/microsoft/Phi-3-mini-128k-instruct:\n",
      "- modeling_phi3.py\n",
      ". Make sure to double-check they do not contain any added malicious code. To avoid downloading new versions of the code file, you can pin a revision.\n",
      "`flash-attention` package not found, consider installing for better performance: No module named 'flash_attn'.\n",
      "Current `flash-attenton` does not support `window_size`. Either upgrade or use `attn_implementation='eager'`.\n"
     ]
    },
    {
     "data": {
      "application/vnd.jupyter.widget-view+json": {
       "model_id": "52ad004ea0a04caf855def5602a30903",
       "version_major": 2,
       "version_minor": 0
      },
      "text/plain": [
       "model.safetensors.index.json:   0%|          | 0.00/16.3k [00:00<?, ?B/s]"
      ]
     },
     "metadata": {},
     "output_type": "display_data"
    },
    {
     "data": {
      "application/vnd.jupyter.widget-view+json": {
       "model_id": "e66fd880e9a84007b249c5ba71906f90",
       "version_major": 2,
       "version_minor": 0
      },
      "text/plain": [
       "Downloading shards:   0%|          | 0/2 [00:00<?, ?it/s]"
      ]
     },
     "metadata": {},
     "output_type": "display_data"
    },
    {
     "data": {
      "application/vnd.jupyter.widget-view+json": {
       "model_id": "db05e3d21f9540aa82da1b4ef6c7fe8a",
       "version_major": 2,
       "version_minor": 0
      },
      "text/plain": [
       "model-00001-of-00002.safetensors:   0%|          | 0.00/4.97G [00:00<?, ?B/s]"
      ]
     },
     "metadata": {},
     "output_type": "display_data"
    },
    {
     "data": {
      "application/vnd.jupyter.widget-view+json": {
       "model_id": "e0fff3578d084653856482aa19b56d69",
       "version_major": 2,
       "version_minor": 0
      },
      "text/plain": [
       "model-00002-of-00002.safetensors:   0%|          | 0.00/2.67G [00:00<?, ?B/s]"
      ]
     },
     "metadata": {},
     "output_type": "display_data"
    },
    {
     "data": {
      "application/vnd.jupyter.widget-view+json": {
       "model_id": "98b165f3cf8c49d8936cb2fb95910894",
       "version_major": 2,
       "version_minor": 0
      },
      "text/plain": [
       "Loading checkpoint shards:   0%|          | 0/2 [00:00<?, ?it/s]"
      ]
     },
     "metadata": {},
     "output_type": "display_data"
    },
    {
     "data": {
      "application/vnd.jupyter.widget-view+json": {
       "model_id": "5034e14e3ad7429392da569ab8d8939c",
       "version_major": 2,
       "version_minor": 0
      },
      "text/plain": [
       "generation_config.json:   0%|          | 0.00/172 [00:00<?, ?B/s]"
      ]
     },
     "metadata": {},
     "output_type": "display_data"
    },
    {
     "data": {
      "application/vnd.jupyter.widget-view+json": {
       "model_id": "9573c9f67f6e478caa9c4a5358469d92",
       "version_major": 2,
       "version_minor": 0
      },
      "text/plain": [
       "tokenizer_config.json:   0%|          | 0.00/3.17k [00:00<?, ?B/s]"
      ]
     },
     "metadata": {},
     "output_type": "display_data"
    },
    {
     "data": {
      "application/vnd.jupyter.widget-view+json": {
       "model_id": "f350e8090f9344098a4e0439ae85a9e3",
       "version_major": 2,
       "version_minor": 0
      },
      "text/plain": [
       "tokenizer.model:   0%|          | 0.00/500k [00:00<?, ?B/s]"
      ]
     },
     "metadata": {},
     "output_type": "display_data"
    },
    {
     "data": {
      "application/vnd.jupyter.widget-view+json": {
       "model_id": "3dd4e0b855ca4062b48bbbc1993aa53c",
       "version_major": 2,
       "version_minor": 0
      },
      "text/plain": [
       "tokenizer.json:   0%|          | 0.00/1.84M [00:00<?, ?B/s]"
      ]
     },
     "metadata": {},
     "output_type": "display_data"
    },
    {
     "data": {
      "application/vnd.jupyter.widget-view+json": {
       "model_id": "cb6b8b73e3584591ad677f2ceb9748a3",
       "version_major": 2,
       "version_minor": 0
      },
      "text/plain": [
       "added_tokens.json:   0%|          | 0.00/293 [00:00<?, ?B/s]"
      ]
     },
     "metadata": {},
     "output_type": "display_data"
    },
    {
     "data": {
      "application/vnd.jupyter.widget-view+json": {
       "model_id": "542e3106230541459d7d8c1814f84435",
       "version_major": 2,
       "version_minor": 0
      },
      "text/plain": [
       "special_tokens_map.json:   0%|          | 0.00/568 [00:00<?, ?B/s]"
      ]
     },
     "metadata": {},
     "output_type": "display_data"
    },
    {
     "name": "stderr",
     "output_type": "stream",
     "text": [
      "Special tokens have been added in the vocabulary, make sure the associated word embeddings are fine-tuned or trained.\n"
     ]
    }
   ],
   "source": [
    "model = AutoModelForCausalLM.from_pretrained(\n",
    "    \"microsoft/Phi-3-mini-128k-instruct\", \n",
    "    device_map=\"cuda\", \n",
    "    torch_dtype=\"auto\", \n",
    "    trust_remote_code=True, \n",
    ")\n",
    "tokenizer = AutoTokenizer.from_pretrained(\"microsoft/Phi-3-mini-128k-instruct\")"
   ]
  },
  {
   "cell_type": "code",
   "execution_count": 7,
   "id": "61f7bf8b-46c5-4ae9-8aea-529df08ec241",
   "metadata": {
    "execution": {
     "iopub.execute_input": "2024-06-28T15:19:53.118640Z",
     "iopub.status.busy": "2024-06-28T15:19:53.118268Z",
     "iopub.status.idle": "2024-06-28T15:19:53.126606Z",
     "shell.execute_reply": "2024-06-28T15:19:53.125852Z",
     "shell.execute_reply.started": "2024-06-28T15:19:53.118614Z"
    },
    "tags": []
   },
   "outputs": [],
   "source": [
    "def llm(prompt):\n",
    "    messages = [\n",
    "    {\"role\": \"user\", \"content\": prompt},\n",
    "    ]\n",
    "\n",
    "    pipe = pipeline(\n",
    "        \"text-generation\",\n",
    "        model=model,\n",
    "        tokenizer=tokenizer,\n",
    "    )\n",
    "\n",
    "    generation_args = {\n",
    "        \"max_new_tokens\": 500,\n",
    "        \"return_full_text\": False,\n",
    "        \"temperature\": 0.0,\n",
    "        \"do_sample\": False,\n",
    "    }\n",
    "\n",
    "    output = pipe(messages, **generation_args)\n",
    "    result = output[0]['generated_text'].strip()\n",
    "    \n",
    "    return result\n",
    "\n",
    "def build_prompt(query, search_results):\n",
    "    prompt_template = \"\"\"\n",
    "    You're a course teaching assistant. Answer the QUESTION based on the CONTEXT from the FAQ database.\n",
    "    Use only the facts from the CONTEXT when answering the QUESTION.\n",
    "    \n",
    "    QUESTION: {question}\n",
    "    \n",
    "    CONTEXT:\n",
    "    {context}\n",
    "    \"\"\".strip()\n",
    "\n",
    "    context_template = \"\"\"\n",
    "    Q: {question}\n",
    "    A: {text}\n",
    "    \"\"\".strip()\n",
    "\n",
    "    context = \"\"\n",
    "    \n",
    "    for doc in search_results:\n",
    "        context = context + context_template.format(question=doc['question'], text=doc['text']) + f\"\\n\\n\" #\n",
    "        \n",
    "    prompt = prompt_template.format(question=query, context=context).strip()\n",
    "    return prompt\n",
    "\n",
    "def search(query):\n",
    "    boost = {'question': 3.0, 'section': 0.5}\n",
    "\n",
    "    results = index.search(\n",
    "        query=query,\n",
    "        filter_dict={'course': 'data-engineering-zoomcamp'},\n",
    "        boost_dict=boost,\n",
    "        num_results=5\n",
    "    )\n",
    "\n",
    "    return results\n",
    "\n",
    "\n",
    "def rag(query):\n",
    "    search_results = search(query) #toy search engine \n",
    "    prompt = build_prompt(query, search_results)\n",
    "    answer = llm(prompt)\n",
    "    return answer"
   ]
  },
  {
   "cell_type": "code",
   "execution_count": 8,
   "id": "b73f4cda-1d97-4a51-8052-beccca8a825e",
   "metadata": {
    "execution": {
     "iopub.execute_input": "2024-06-28T15:19:55.278122Z",
     "iopub.status.busy": "2024-06-28T15:19:55.277341Z",
     "iopub.status.idle": "2024-06-28T15:19:57.262412Z",
     "shell.execute_reply": "2024-06-28T15:19:57.261507Z",
     "shell.execute_reply.started": "2024-06-28T15:19:55.278090Z"
    },
    "tags": []
   },
   "outputs": [
    {
     "data": {
      "text/plain": [
       "'Yes, you can still join the course.'"
      ]
     },
     "execution_count": 8,
     "metadata": {},
     "output_type": "execute_result"
    }
   ],
   "source": [
    "rag(\"I just discovered the course. Can I still join it?\")"
   ]
  },
  {
   "cell_type": "markdown",
   "id": "54ccee3b-bedf-4900-9cd1-0946072161ac",
   "metadata": {},
   "source": [
    "**Explanation of Parameters in `**generation_args`:**\n",
    "\n",
    "\n",
    "* `max_new_tokens`: Sets the maximum number of tokens to generate. For example, 500 or 1000 tokens.\n",
    "* `return_full_text`: A boolean parameter that determines whether to return the full generated text including the prompt (true) or only the newly generated text (false).\n",
    "* `temperature`: Controls the randomness of the output. Lower values (e.g., 0.0 or 0.3) make the output more deterministic, while higher values increase randomness.\n",
    "* `do_sample`: A boolean parameter that determines whether to use sampling (true) or greedy decoding (false) during text generation.\n",
    "* `streamer`: An optional parameter to enable streaming of the generated textmax_new_tokens: Sets the maximum number of tokens to generate. For example, 500 or 1000 tokens .\n"
   ]
  },
  {
   "cell_type": "code",
   "execution_count": null,
   "id": "cebd4390-fb50-4ba7-bee3-e79d3c547d3d",
   "metadata": {},
   "outputs": [],
   "source": []
  }
 ],
 "metadata": {
  "kernelspec": {
   "display_name": "saturn (Python 3)",
   "language": "python",
   "name": "python3"
  },
  "language_info": {
   "codemirror_mode": {
    "name": "ipython",
    "version": 3
   },
   "file_extension": ".py",
   "mimetype": "text/x-python",
   "name": "python",
   "nbconvert_exporter": "python",
   "pygments_lexer": "ipython3",
   "version": "3.9.18"
  }
 },
 "nbformat": 4,
 "nbformat_minor": 5
}
