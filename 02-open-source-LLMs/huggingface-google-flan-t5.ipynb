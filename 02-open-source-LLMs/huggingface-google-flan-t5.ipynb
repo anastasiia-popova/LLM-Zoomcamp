{
 "cells": [
  {
   "cell_type": "code",
   "execution_count": 1,
   "id": "b2822be1-7967-4fa6-8fff-47e57c102861",
   "metadata": {
    "execution": {
     "iopub.execute_input": "2024-06-28T14:23:22.628694Z",
     "iopub.status.busy": "2024-06-28T14:23:22.628284Z",
     "iopub.status.idle": "2024-06-28T14:23:24.010076Z",
     "shell.execute_reply": "2024-06-28T14:23:24.009348Z",
     "shell.execute_reply.started": "2024-06-28T14:23:22.628669Z"
    },
    "tags": []
   },
   "outputs": [
    {
     "name": "stdout",
     "output_type": "stream",
     "text": [
      "--2024-06-28 14:23:23--  https://raw.githubusercontent.com/alexeygrigorev/minsearch/main/minsearch.py\n",
      "Resolving raw.githubusercontent.com (raw.githubusercontent.com)... 185.199.108.133, 185.199.111.133, 185.199.109.133, ...\n",
      "Connecting to raw.githubusercontent.com (raw.githubusercontent.com)|185.199.108.133|:443... connected.\n",
      "HTTP request sent, awaiting response... 200 OK\n",
      "Length: 3832 (3.7K) [text/plain]\n",
      "Saving to: ‘minsearch.py’\n",
      "\n",
      "minsearch.py        100%[===================>]   3.74K  --.-KB/s    in 0s      \n",
      "\n",
      "2024-06-28 14:23:23 (43.2 MB/s) - ‘minsearch.py’ saved [3832/3832]\n",
      "\n"
     ]
    }
   ],
   "source": [
    "!rm -f minsearch.py\n",
    "!wget https://raw.githubusercontent.com/alexeygrigorev/minsearch/main/minsearch.py"
   ]
  },
  {
   "cell_type": "code",
   "execution_count": 8,
   "id": "7c738669-d61c-4f59-a51f-b14377736d17",
   "metadata": {
    "execution": {
     "iopub.execute_input": "2024-06-28T14:39:06.799187Z",
     "iopub.status.busy": "2024-06-28T14:39:06.798775Z",
     "iopub.status.idle": "2024-06-28T14:39:10.562437Z",
     "shell.execute_reply": "2024-06-28T14:39:10.561622Z",
     "shell.execute_reply.started": "2024-06-28T14:39:06.799160Z"
    },
    "tags": []
   },
   "outputs": [
    {
     "data": {
      "text/plain": [
       "<minsearch.Index at 0x7efea6f81550>"
      ]
     },
     "execution_count": 8,
     "metadata": {},
     "output_type": "execute_result"
    }
   ],
   "source": [
    "# Take database and fit a toy search \n",
    "import requests \n",
    "import minsearch\n",
    "\n",
    "docs_url = 'https://github.com/DataTalksClub/llm-zoomcamp/blob/main/01-intro/documents.json?raw=1'\n",
    "docs_response = requests.get(docs_url)\n",
    "documents_raw = docs_response.json()\n",
    "\n",
    "documents = []\n",
    "\n",
    "for course in documents_raw:\n",
    "    course_name = course['course']\n",
    "\n",
    "    for doc in course['documents']:\n",
    "        doc['course'] = course_name\n",
    "        documents.append(doc)\n",
    "\n",
    "index = minsearch.Index(\n",
    "    text_fields=[\"question\", \"text\", \"section\"],\n",
    "    keyword_fields=[\"course\"]\n",
    ")\n",
    "\n",
    "index.fit(documents)"
   ]
  },
  {
   "cell_type": "code",
   "execution_count": 2,
   "id": "bfe3df6f-8ff1-4e75-89ce-4f99fc59c9d7",
   "metadata": {
    "execution": {
     "iopub.execute_input": "2024-06-28T14:25:46.889875Z",
     "iopub.status.busy": "2024-06-28T14:25:46.889410Z",
     "iopub.status.idle": "2024-06-28T14:25:46.893721Z",
     "shell.execute_reply": "2024-06-28T14:25:46.892935Z",
     "shell.execute_reply.started": "2024-06-28T14:25:46.889843Z"
    },
    "tags": []
   },
   "outputs": [],
   "source": [
    "# Change the directory to store data from HuggingFace in the appropriate location on the SaturnCloud \n",
    "import os\n",
    "os.environ['HF_HOME'] = '/run/cache/'"
   ]
  },
  {
   "cell_type": "code",
   "execution_count": 3,
   "id": "e1a0d5d2-801b-48e6-8e4e-e1c49ec844d6",
   "metadata": {
    "execution": {
     "iopub.execute_input": "2024-06-28T14:26:03.393498Z",
     "iopub.status.busy": "2024-06-28T14:26:03.393129Z",
     "iopub.status.idle": "2024-06-28T14:26:09.343054Z",
     "shell.execute_reply": "2024-06-28T14:26:09.342356Z",
     "shell.execute_reply.started": "2024-06-28T14:26:03.393471Z"
    },
    "tags": []
   },
   "outputs": [],
   "source": [
    "from transformers import T5Tokenizer, T5ForConditionalGeneration"
   ]
  },
  {
   "cell_type": "code",
   "execution_count": 4,
   "id": "86538a20-2c8f-4dab-859b-9726777e1273",
   "metadata": {
    "execution": {
     "iopub.execute_input": "2024-06-28T14:26:13.250968Z",
     "iopub.status.busy": "2024-06-28T14:26:13.250505Z",
     "iopub.status.idle": "2024-06-28T14:28:58.371988Z",
     "shell.execute_reply": "2024-06-28T14:28:58.371331Z",
     "shell.execute_reply.started": "2024-06-28T14:26:13.250939Z"
    },
    "tags": []
   },
   "outputs": [
    {
     "data": {
      "application/vnd.jupyter.widget-view+json": {
       "model_id": "e9defe7681a7448faf5783711ce21e6d",
       "version_major": 2,
       "version_minor": 0
      },
      "text/plain": [
       "tokenizer_config.json:   0%|          | 0.00/2.54k [00:00<?, ?B/s]"
      ]
     },
     "metadata": {},
     "output_type": "display_data"
    },
    {
     "data": {
      "application/vnd.jupyter.widget-view+json": {
       "model_id": "1bf187181c604af1a71b7219ffea59a8",
       "version_major": 2,
       "version_minor": 0
      },
      "text/plain": [
       "spiece.model:   0%|          | 0.00/792k [00:00<?, ?B/s]"
      ]
     },
     "metadata": {},
     "output_type": "display_data"
    },
    {
     "data": {
      "application/vnd.jupyter.widget-view+json": {
       "model_id": "91b997fff9c94def8aa323af67e608a0",
       "version_major": 2,
       "version_minor": 0
      },
      "text/plain": [
       "special_tokens_map.json:   0%|          | 0.00/2.20k [00:00<?, ?B/s]"
      ]
     },
     "metadata": {},
     "output_type": "display_data"
    },
    {
     "data": {
      "application/vnd.jupyter.widget-view+json": {
       "model_id": "9f88c1af8f0a4117932bc4ba294b17d0",
       "version_major": 2,
       "version_minor": 0
      },
      "text/plain": [
       "tokenizer.json:   0%|          | 0.00/2.42M [00:00<?, ?B/s]"
      ]
     },
     "metadata": {},
     "output_type": "display_data"
    },
    {
     "name": "stderr",
     "output_type": "stream",
     "text": [
      "You are using the default legacy behaviour of the <class 'transformers.models.t5.tokenization_t5.T5Tokenizer'>. This is expected, and simply means that the `legacy` (previous) behavior will be used so nothing changes for you. If you want to use the new behaviour, set `legacy=False`. This should only be set if you understand what it means, and thoroughly read the reason why this was added as explained in https://github.com/huggingface/transformers/pull/24565\n",
      "Special tokens have been added in the vocabulary, make sure the associated word embeddings are fine-tuned or trained.\n"
     ]
    },
    {
     "data": {
      "application/vnd.jupyter.widget-view+json": {
       "model_id": "5fde92c8520648ceaa5da4bc3b1c9b19",
       "version_major": 2,
       "version_minor": 0
      },
      "text/plain": [
       "config.json:   0%|          | 0.00/1.44k [00:00<?, ?B/s]"
      ]
     },
     "metadata": {},
     "output_type": "display_data"
    },
    {
     "data": {
      "application/vnd.jupyter.widget-view+json": {
       "model_id": "39655090773a4612b43b30806d84ebe8",
       "version_major": 2,
       "version_minor": 0
      },
      "text/plain": [
       "model.safetensors.index.json:   0%|          | 0.00/53.0k [00:00<?, ?B/s]"
      ]
     },
     "metadata": {},
     "output_type": "display_data"
    },
    {
     "data": {
      "application/vnd.jupyter.widget-view+json": {
       "model_id": "b93195b75519457e842fdd78cc0a3a10",
       "version_major": 2,
       "version_minor": 0
      },
      "text/plain": [
       "Downloading shards:   0%|          | 0/2 [00:00<?, ?it/s]"
      ]
     },
     "metadata": {},
     "output_type": "display_data"
    },
    {
     "data": {
      "application/vnd.jupyter.widget-view+json": {
       "model_id": "e793d06e4cbb473b867c13eea5ff21b9",
       "version_major": 2,
       "version_minor": 0
      },
      "text/plain": [
       "model-00001-of-00002.safetensors:   0%|          | 0.00/9.45G [00:00<?, ?B/s]"
      ]
     },
     "metadata": {},
     "output_type": "display_data"
    },
    {
     "data": {
      "application/vnd.jupyter.widget-view+json": {
       "model_id": "0b202e474afc4a0e81676fc62dc7a9d3",
       "version_major": 2,
       "version_minor": 0
      },
      "text/plain": [
       "model-00002-of-00002.safetensors:   0%|          | 0.00/1.95G [00:00<?, ?B/s]"
      ]
     },
     "metadata": {},
     "output_type": "display_data"
    },
    {
     "data": {
      "application/vnd.jupyter.widget-view+json": {
       "model_id": "fa2e48fc6ced477bb4ff9f2786deadcc",
       "version_major": 2,
       "version_minor": 0
      },
      "text/plain": [
       "Loading checkpoint shards:   0%|          | 0/2 [00:00<?, ?it/s]"
      ]
     },
     "metadata": {},
     "output_type": "display_data"
    },
    {
     "data": {
      "application/vnd.jupyter.widget-view+json": {
       "model_id": "d9d2fd4b0aef435d88013d880c2d8716",
       "version_major": 2,
       "version_minor": 0
      },
      "text/plain": [
       "generation_config.json:   0%|          | 0.00/147 [00:00<?, ?B/s]"
      ]
     },
     "metadata": {},
     "output_type": "display_data"
    }
   ],
   "source": [
    "tokenizer = T5Tokenizer.from_pretrained(\"google/flan-t5-xl\")\n",
    "model = T5ForConditionalGeneration.from_pretrained(\"google/flan-t5-xl\", device_map=\"auto\")\n"
   ]
  },
  {
   "cell_type": "code",
   "execution_count": 5,
   "id": "705002fe-6c5f-4918-a077-7190b3acdc35",
   "metadata": {
    "execution": {
     "iopub.execute_input": "2024-06-28T14:28:58.374196Z",
     "iopub.status.busy": "2024-06-28T14:28:58.373435Z",
     "iopub.status.idle": "2024-06-28T14:28:58.385613Z",
     "shell.execute_reply": "2024-06-28T14:28:58.384969Z",
     "shell.execute_reply.started": "2024-06-28T14:28:58.374170Z"
    },
    "tags": []
   },
   "outputs": [
    {
     "data": {
      "text/plain": [
       "tensor([[13959,  1566,    12,  2968,    10,   571,   625,    33,    25,    58,\n",
       "             1]], device='cuda:0')"
      ]
     },
     "execution_count": 5,
     "metadata": {},
     "output_type": "execute_result"
    }
   ],
   "source": [
    "input_text = \"translate English to German: How old are you?\"\n",
    "# tokenizer takes the texts and generates the representation for the LLM \n",
    "input_ids = tokenizer(input_text, return_tensors=\"pt\").input_ids.to(\"cuda\")\n",
    "input_ids"
   ]
  },
  {
   "cell_type": "code",
   "execution_count": 7,
   "id": "3a625ec4-6fbd-4629-85ae-8499964e772c",
   "metadata": {
    "execution": {
     "iopub.execute_input": "2024-06-28T14:32:40.525931Z",
     "iopub.status.busy": "2024-06-28T14:32:40.525493Z",
     "iopub.status.idle": "2024-06-28T14:32:40.746813Z",
     "shell.execute_reply": "2024-06-28T14:32:40.745870Z",
     "shell.execute_reply.started": "2024-06-28T14:32:40.525901Z"
    },
    "tags": []
   },
   "outputs": [
    {
     "name": "stdout",
     "output_type": "stream",
     "text": [
      "<pad> Wie alt sind Sie?</s>\n"
     ]
    }
   ],
   "source": [
    "outputs = model.generate(input_ids)\n",
    "result = tokenizer.decode(outputs[0])\n",
    "print(result)"
   ]
  },
  {
   "cell_type": "code",
   "execution_count": 13,
   "id": "61f7bf8b-46c5-4ae9-8aea-529df08ec241",
   "metadata": {
    "execution": {
     "iopub.execute_input": "2024-06-28T14:44:07.163976Z",
     "iopub.status.busy": "2024-06-28T14:44:07.163589Z",
     "iopub.status.idle": "2024-06-28T14:44:07.171026Z",
     "shell.execute_reply": "2024-06-28T14:44:07.170177Z",
     "shell.execute_reply.started": "2024-06-28T14:44:07.163946Z"
    },
    "tags": []
   },
   "outputs": [],
   "source": [
    "def llm(prompt):\n",
    "    input_ids = tokenizer(prompt, return_tensors=\"pt\").input_ids.to(\"cuda\")\n",
    "    outputs = model.generate(input_ids, max_length = 100)\n",
    "    result = tokenizer.decode(outputs[0])\n",
    "    \n",
    "    return result\n",
    "\n",
    "def build_prompt(query, search_results):\n",
    "    prompt_template = \"\"\"\n",
    "    You're a course teaching assistant. Answer the QUESTION based on the CONTEXT from the FAQ database.\n",
    "    Use only the facts from the CONTEXT when answering the QUESTION.\n",
    "    \n",
    "    QUESTION: {question}\n",
    "    \n",
    "    CONTEXT:\n",
    "    {context}\n",
    "    \"\"\".strip()\n",
    "\n",
    "    context_template = \"\"\"\n",
    "    Q: {question}\n",
    "    A: {text}\n",
    "    \"\"\".strip()\n",
    "\n",
    "    context = \"\"\n",
    "    \n",
    "    for doc in search_results:\n",
    "        context = context + context_template.format(question=doc['question'], text=doc['text']) + f\"\\n\\n\" #\n",
    "        \n",
    "    prompt = prompt_template.format(question=query, context=context).strip()\n",
    "    return prompt\n",
    "\n",
    "def search(query):\n",
    "    boost = {'question': 3.0, 'section': 0.5}\n",
    "\n",
    "    results = index.search(\n",
    "        query=query,\n",
    "        filter_dict={'course': 'data-engineering-zoomcamp'},\n",
    "        boost_dict=boost,\n",
    "        num_results=5\n",
    "    )\n",
    "\n",
    "    return results\n",
    "\n",
    "\n",
    "def rag(query):\n",
    "    search_results = search(query) #toy search engine \n",
    "    prompt = build_prompt(query, search_results)\n",
    "    answer = llm(prompt)\n",
    "    return answer"
   ]
  },
  {
   "cell_type": "code",
   "execution_count": 14,
   "id": "b73f4cda-1d97-4a51-8052-beccca8a825e",
   "metadata": {
    "execution": {
     "iopub.execute_input": "2024-06-28T14:44:08.929447Z",
     "iopub.status.busy": "2024-06-28T14:44:08.929050Z",
     "iopub.status.idle": "2024-06-28T14:44:10.846535Z",
     "shell.execute_reply": "2024-06-28T14:44:10.845623Z",
     "shell.execute_reply.started": "2024-06-28T14:44:08.929423Z"
    },
    "tags": []
   },
   "outputs": [
    {
     "data": {
      "text/plain": [
       "\"<pad> Yes, even if you don't register, you're still eligible to submit the homeworks. Be aware, however, that there will be deadlines for turning in the final projects. So don't leave everything for the last minute.</s>\""
      ]
     },
     "execution_count": 14,
     "metadata": {},
     "output_type": "execute_result"
    }
   ],
   "source": [
    "rag(\"I just discovered the course. Can I still join it?\")"
   ]
  },
  {
   "cell_type": "markdown",
   "id": "54ccee3b-bedf-4900-9cd1-0946072161ac",
   "metadata": {},
   "source": [
    "**Explanation of Parameters in `model.generate()`:**\n",
    "\n",
    "* `max_length`: Set this to a higher value if you want longer responses. For example, max_length=300.\n",
    "* `num_beams`: Increasing this can lead to more thorough exploration of possible sequences. Typical values are between 5 and 10.\n",
    "* `do_sample`: Set this to True to use sampling methods. This can produce more diverse responses.\n",
    "* `temperature`: Lowering this value makes the model more confident and deterministic, while higher values increase diversity. Typical values range from 0.7 to 1.5.\n",
    "* `top_k` and `top_p`: These parameters control nucleus sampling. `top_k` limits the sampling pool to the top k tokens, while `top_p` uses cumulative probability to cut off the sampling pool. Adjust these based on the desired level of randomness.\n",
    "\n"
   ]
  },
  {
   "cell_type": "code",
   "execution_count": null,
   "id": "cebd4390-fb50-4ba7-bee3-e79d3c547d3d",
   "metadata": {},
   "outputs": [],
   "source": []
  }
 ],
 "metadata": {
  "kernelspec": {
   "display_name": "saturn (Python 3)",
   "language": "python",
   "name": "python3"
  },
  "language_info": {
   "codemirror_mode": {
    "name": "ipython",
    "version": 3
   },
   "file_extension": ".py",
   "mimetype": "text/x-python",
   "name": "python",
   "nbconvert_exporter": "python",
   "pygments_lexer": "ipython3",
   "version": "3.9.18"
  }
 },
 "nbformat": 4,
 "nbformat_minor": 5
}
