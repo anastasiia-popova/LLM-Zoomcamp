{
 "cells": [
  {
   "cell_type": "code",
   "execution_count": 1,
   "id": "7c738669-d61c-4f59-a51f-b14377736d17",
   "metadata": {
    "execution": {
     "iopub.execute_input": "2024-07-01T13:15:47.941666Z",
     "iopub.status.busy": "2024-07-01T13:15:47.941263Z",
     "iopub.status.idle": "2024-07-01T13:15:51.195606Z",
     "shell.execute_reply": "2024-07-01T13:15:51.194776Z",
     "shell.execute_reply.started": "2024-07-01T13:15:47.941636Z"
    },
    "tags": []
   },
   "outputs": [
    {
     "data": {
      "text/plain": [
       "<minsearch.Index at 0x7f73f96836a0>"
      ]
     },
     "execution_count": 1,
     "metadata": {},
     "output_type": "execute_result"
    }
   ],
   "source": [
    "# Take database and fit a toy search \n",
    "import requests \n",
    "import minsearch\n",
    "\n",
    "docs_url = 'https://github.com/DataTalksClub/llm-zoomcamp/blob/main/01-intro/documents.json?raw=1'\n",
    "docs_response = requests.get(docs_url)\n",
    "documents_raw = docs_response.json()\n",
    "\n",
    "documents = []\n",
    "\n",
    "for course in documents_raw:\n",
    "    course_name = course['course']\n",
    "\n",
    "    for doc in course['documents']:\n",
    "        doc['course'] = course_name\n",
    "        documents.append(doc)\n",
    "\n",
    "index = minsearch.Index(\n",
    "    text_fields=[\"question\", \"text\", \"section\"],\n",
    "    keyword_fields=[\"course\"]\n",
    ")\n",
    "\n",
    "index.fit(documents)"
   ]
  },
  {
   "cell_type": "code",
   "execution_count": 2,
   "id": "bfe3df6f-8ff1-4e75-89ce-4f99fc59c9d7",
   "metadata": {
    "execution": {
     "iopub.execute_input": "2024-07-01T13:15:51.197964Z",
     "iopub.status.busy": "2024-07-01T13:15:51.197386Z",
     "iopub.status.idle": "2024-07-01T13:15:51.202248Z",
     "shell.execute_reply": "2024-07-01T13:15:51.201209Z",
     "shell.execute_reply.started": "2024-07-01T13:15:51.197926Z"
    },
    "tags": []
   },
   "outputs": [],
   "source": [
    "# Change the directory to store data from HuggingFace in the appropriate location on the SaturnCloud \n",
    "import os\n",
    "os.environ['HF_HOME'] = '/run/cache/'"
   ]
  },
  {
   "cell_type": "markdown",
   "id": "0234fa9e-25be-4f1c-bde5-86d7bc397593",
   "metadata": {},
   "source": [
    "to check the GPU in terminal:  `nvidia-smi `; real-time monitoring: `watch nvidia-smi`\n",
    "\n",
    "(flan-t5 used 11GB, whereas phi3-mini 8 GB)  "
   ]
  },
  {
   "cell_type": "code",
   "execution_count": 17,
   "id": "e1a0d5d2-801b-48e6-8e4e-e1c49ec844d6",
   "metadata": {
    "execution": {
     "iopub.execute_input": "2024-07-01T13:32:31.103603Z",
     "iopub.status.busy": "2024-07-01T13:32:31.103213Z",
     "iopub.status.idle": "2024-07-01T13:32:31.681426Z",
     "shell.execute_reply": "2024-07-01T13:32:31.680789Z",
     "shell.execute_reply.started": "2024-07-01T13:32:31.103575Z"
    },
    "tags": []
   },
   "outputs": [],
   "source": [
    "import torch\n",
    "from transformers import AutoModelForCausalLM, AutoTokenizer, pipeline\n",
    "from huggingface_hub import login\n"
   ]
  },
  {
   "cell_type": "code",
   "execution_count": 4,
   "id": "53c382eb-bd8d-426e-bc50-338d7b943850",
   "metadata": {
    "execution": {
     "iopub.execute_input": "2024-07-01T13:15:57.837172Z",
     "iopub.status.busy": "2024-07-01T13:15:57.836703Z",
     "iopub.status.idle": "2024-07-01T13:15:57.888208Z",
     "shell.execute_reply": "2024-07-01T13:15:57.887277Z",
     "shell.execute_reply.started": "2024-07-01T13:15:57.837146Z"
    },
    "tags": []
   },
   "outputs": [
    {
     "name": "stdout",
     "output_type": "stream",
     "text": [
      "The token has not been saved to the git credentials helper. Pass `add_to_git_credential=True` in this function directly or `--add-to-git-credential` if using via `huggingface-cli` if you want to set the git credential as well.\n",
      "Token is valid (permission: read).\n",
      "Your token has been saved to /run/cache/token\n",
      "Login successful\n"
     ]
    }
   ],
   "source": [
    "login(token=os.environ['HF_TOKEN'])"
   ]
  },
  {
   "cell_type": "code",
   "execution_count": 5,
   "id": "56be5039-dad1-4ff2-8f68-dc7f9982bbad",
   "metadata": {
    "execution": {
     "iopub.execute_input": "2024-07-01T13:16:01.208637Z",
     "iopub.status.busy": "2024-07-01T13:16:01.208247Z",
     "iopub.status.idle": "2024-07-01T13:19:42.457226Z",
     "shell.execute_reply": "2024-07-01T13:19:42.456561Z",
     "shell.execute_reply.started": "2024-07-01T13:16:01.208609Z"
    },
    "tags": []
   },
   "outputs": [
    {
     "data": {
      "application/vnd.jupyter.widget-view+json": {
       "model_id": "447c645c830944a59bcbdbf0820f8863",
       "version_major": 2,
       "version_minor": 0
      },
      "text/plain": [
       "config.json:   0%|          | 0.00/571 [00:00<?, ?B/s]"
      ]
     },
     "metadata": {},
     "output_type": "display_data"
    },
    {
     "name": "stderr",
     "output_type": "stream",
     "text": [
      "The `load_in_4bit` and `load_in_8bit` arguments are deprecated and will be removed in the future versions. Please, pass a `BitsAndBytesConfig` object in `quantization_config` argument instead.\n"
     ]
    },
    {
     "data": {
      "application/vnd.jupyter.widget-view+json": {
       "model_id": "1d3e7c70b7754fccba35924767c91914",
       "version_major": 2,
       "version_minor": 0
      },
      "text/plain": [
       "model.safetensors.index.json:   0%|          | 0.00/25.1k [00:00<?, ?B/s]"
      ]
     },
     "metadata": {},
     "output_type": "display_data"
    },
    {
     "data": {
      "application/vnd.jupyter.widget-view+json": {
       "model_id": "72baf1ac2a304b40b89550a045f69914",
       "version_major": 2,
       "version_minor": 0
      },
      "text/plain": [
       "Downloading shards:   0%|          | 0/2 [00:00<?, ?it/s]"
      ]
     },
     "metadata": {},
     "output_type": "display_data"
    },
    {
     "data": {
      "application/vnd.jupyter.widget-view+json": {
       "model_id": "fac4189d9bcd447fbe7f997d2bb5467e",
       "version_major": 2,
       "version_minor": 0
      },
      "text/plain": [
       "model-00001-of-00002.safetensors:   0%|          | 0.00/9.94G [00:00<?, ?B/s]"
      ]
     },
     "metadata": {},
     "output_type": "display_data"
    },
    {
     "data": {
      "application/vnd.jupyter.widget-view+json": {
       "model_id": "b3ab725bf19a4de4bdd58655fbf63e27",
       "version_major": 2,
       "version_minor": 0
      },
      "text/plain": [
       "model-00002-of-00002.safetensors:   0%|          | 0.00/4.54G [00:00<?, ?B/s]"
      ]
     },
     "metadata": {},
     "output_type": "display_data"
    },
    {
     "data": {
      "application/vnd.jupyter.widget-view+json": {
       "model_id": "59b9617512874cffa9065e0afbb753ce",
       "version_major": 2,
       "version_minor": 0
      },
      "text/plain": [
       "Loading checkpoint shards:   0%|          | 0/2 [00:00<?, ?it/s]"
      ]
     },
     "metadata": {},
     "output_type": "display_data"
    },
    {
     "data": {
      "application/vnd.jupyter.widget-view+json": {
       "model_id": "102e0ab8a5cf488882010e4be28de194",
       "version_major": 2,
       "version_minor": 0
      },
      "text/plain": [
       "generation_config.json:   0%|          | 0.00/116 [00:00<?, ?B/s]"
      ]
     },
     "metadata": {},
     "output_type": "display_data"
    }
   ],
   "source": [
    "model = AutoModelForCausalLM.from_pretrained(\n",
    "    \"mistralai/Mistral-7B-v0.1\", device_map=\"auto\", load_in_4bit=True\n",
    ")"
   ]
  },
  {
   "cell_type": "code",
   "execution_count": 6,
   "id": "5a73738c-fdea-4d7f-8b3f-666faeb42de6",
   "metadata": {
    "execution": {
     "iopub.execute_input": "2024-07-01T13:19:42.458866Z",
     "iopub.status.busy": "2024-07-01T13:19:42.458556Z",
     "iopub.status.idle": "2024-07-01T13:19:42.933958Z",
     "shell.execute_reply": "2024-07-01T13:19:42.933214Z",
     "shell.execute_reply.started": "2024-07-01T13:19:42.458841Z"
    },
    "tags": []
   },
   "outputs": [
    {
     "data": {
      "application/vnd.jupyter.widget-view+json": {
       "model_id": "8e17e63b1361440dafa854fd001290b5",
       "version_major": 2,
       "version_minor": 0
      },
      "text/plain": [
       "tokenizer_config.json:   0%|          | 0.00/967 [00:00<?, ?B/s]"
      ]
     },
     "metadata": {},
     "output_type": "display_data"
    },
    {
     "data": {
      "application/vnd.jupyter.widget-view+json": {
       "model_id": "9f313d7d6aea487cbd1565fc706408e3",
       "version_major": 2,
       "version_minor": 0
      },
      "text/plain": [
       "tokenizer.model:   0%|          | 0.00/493k [00:00<?, ?B/s]"
      ]
     },
     "metadata": {},
     "output_type": "display_data"
    },
    {
     "data": {
      "application/vnd.jupyter.widget-view+json": {
       "model_id": "fd5f19983c56417386d2aa795f374d05",
       "version_major": 2,
       "version_minor": 0
      },
      "text/plain": [
       "tokenizer.json:   0%|          | 0.00/1.80M [00:00<?, ?B/s]"
      ]
     },
     "metadata": {},
     "output_type": "display_data"
    },
    {
     "data": {
      "application/vnd.jupyter.widget-view+json": {
       "model_id": "31fb4af6e6e14bbd928778c84890a74b",
       "version_major": 2,
       "version_minor": 0
      },
      "text/plain": [
       "special_tokens_map.json:   0%|          | 0.00/72.0 [00:00<?, ?B/s]"
      ]
     },
     "metadata": {},
     "output_type": "display_data"
    }
   ],
   "source": [
    "tokenizer = AutoTokenizer.from_pretrained(\"mistralai/Mistral-7B-v0.1\", padding_side=\"left\")"
   ]
  },
  {
   "cell_type": "code",
   "execution_count": 7,
   "id": "19621e4a-f022-42fe-b6bf-3f3da09ba212",
   "metadata": {
    "execution": {
     "iopub.execute_input": "2024-07-01T13:19:42.935167Z",
     "iopub.status.busy": "2024-07-01T13:19:42.934877Z",
     "iopub.status.idle": "2024-07-01T13:19:42.940132Z",
     "shell.execute_reply": "2024-07-01T13:19:42.939273Z",
     "shell.execute_reply.started": "2024-07-01T13:19:42.935145Z"
    },
    "tags": []
   },
   "outputs": [],
   "source": [
    "model_inputs = tokenizer([\"A list of colors: red, blue\"], return_tensors=\"pt\").to(\"cuda\")"
   ]
  },
  {
   "cell_type": "code",
   "execution_count": 8,
   "id": "84123bec-8054-4d35-8837-23cdd544816c",
   "metadata": {
    "execution": {
     "iopub.execute_input": "2024-07-01T13:19:42.941846Z",
     "iopub.status.busy": "2024-07-01T13:19:42.941534Z",
     "iopub.status.idle": "2024-07-01T13:19:45.243324Z",
     "shell.execute_reply": "2024-07-01T13:19:45.242050Z",
     "shell.execute_reply.started": "2024-07-01T13:19:42.941803Z"
    },
    "tags": []
   },
   "outputs": [
    {
     "name": "stderr",
     "output_type": "stream",
     "text": [
      "Setting `pad_token_id` to `eos_token_id`:2 for open-end generation.\n",
      "/opt/saturncloud/envs/saturn/lib/python3.9/site-packages/transformers/generation/utils.py:1249: UserWarning: Using the model-agnostic default `max_length` (=20) to control the generation length. We recommend setting `max_new_tokens` to control the maximum length of the generation.\n",
      "  warnings.warn(\n",
      "/opt/saturncloud/envs/saturn/lib/python3.9/site-packages/bitsandbytes/nn/modules.py:426: UserWarning: Input type into Linear4bit is torch.float16, but bnb_4bit_compute_dtype=torch.float32 (default). This will lead to slow inference or training speed.\n",
      "  warnings.warn(\n"
     ]
    },
    {
     "data": {
      "text/plain": [
       "'A list of colors: red, blue, green, yellow, orange, purple, pink,'"
      ]
     },
     "execution_count": 8,
     "metadata": {},
     "output_type": "execute_result"
    }
   ],
   "source": [
    "generated_ids = model.generate(**model_inputs)\n",
    "tokenizer.batch_decode(generated_ids, skip_special_tokens=True)[0]"
   ]
  },
  {
   "cell_type": "code",
   "execution_count": 18,
   "id": "8a774f5d-df25-4478-8047-aa70631d73a0",
   "metadata": {
    "execution": {
     "iopub.execute_input": "2024-07-01T13:32:38.592221Z",
     "iopub.status.busy": "2024-07-01T13:32:38.591823Z",
     "iopub.status.idle": "2024-07-01T13:32:38.596920Z",
     "shell.execute_reply": "2024-07-01T13:32:38.596106Z",
     "shell.execute_reply.started": "2024-07-01T13:32:38.592195Z"
    },
    "tags": []
   },
   "outputs": [],
   "source": [
    "generator = pipeline(\"text-generation\", model=model, tokenizer=tokenizer)"
   ]
  },
  {
   "cell_type": "code",
   "execution_count": 23,
   "id": "61f7bf8b-46c5-4ae9-8aea-529df08ec241",
   "metadata": {
    "execution": {
     "iopub.execute_input": "2024-07-01T13:37:55.823730Z",
     "iopub.status.busy": "2024-07-01T13:37:55.823305Z",
     "iopub.status.idle": "2024-07-01T13:37:55.830667Z",
     "shell.execute_reply": "2024-07-01T13:37:55.829873Z",
     "shell.execute_reply.started": "2024-07-01T13:37:55.823704Z"
    },
    "tags": []
   },
   "outputs": [],
   "source": [
    "def llm(prompt):\n",
    "    output = generator(prompt, max_length=200, truncation=True, temperature=0.7, top_p=0.95, num_return_sequences=1)\n",
    "    response = output[0]['generated_text']\n",
    "    return response[len(prompt):].strip()\n",
    "\n",
    "# because it's a completion model we need to change the prompt \n",
    "def build_prompt(query, search_results):\n",
    "    prompt_template = \"\"\"    \n",
    "    QUESTION: {question}\n",
    "    \n",
    "    CONTEXT:\n",
    "    {context}\n",
    "    \n",
    "    ANSWER:\n",
    "    \n",
    "    \"\"\".strip()\n",
    "\n",
    "    context_template = \"\"\"\n",
    "    Q: {question}\n",
    "    A: {text}\n",
    "    \"\"\".strip()\n",
    "\n",
    "    context = \"\"\n",
    "    \n",
    "    for doc in search_results:\n",
    "        context = context + context_template.format(question=doc['question'], text=doc['text']) + f\"\\n\\n\" #\n",
    "        \n",
    "    prompt = prompt_template.format(question=query, context=context).strip()\n",
    "    return prompt\n",
    "\n",
    "def search(query):\n",
    "    boost = {'question': 3.0, 'section': 0.5}\n",
    "\n",
    "    results = index.search(\n",
    "        query=query,\n",
    "        filter_dict={'course': 'data-engineering-zoomcamp'},\n",
    "        boost_dict=boost,\n",
    "        num_results=2\n",
    "    )\n",
    "\n",
    "    return results\n",
    "\n",
    "\n",
    "def rag(query):\n",
    "    search_results = search(query) #toy search engine \n",
    "    prompt = build_prompt(query, search_results)\n",
    "    answer = llm(prompt)\n",
    "    return answer"
   ]
  },
  {
   "cell_type": "code",
   "execution_count": 24,
   "id": "b73f4cda-1d97-4a51-8052-beccca8a825e",
   "metadata": {
    "execution": {
     "iopub.execute_input": "2024-07-01T13:37:56.058971Z",
     "iopub.status.busy": "2024-07-01T13:37:56.058594Z",
     "iopub.status.idle": "2024-07-01T13:37:57.888949Z",
     "shell.execute_reply": "2024-07-01T13:37:57.888128Z",
     "shell.execute_reply.started": "2024-07-01T13:37:56.058943Z"
    },
    "tags": []
   },
   "outputs": [
    {
     "name": "stderr",
     "output_type": "stream",
     "text": [
      "Setting `pad_token_id` to `eos_token_id`:2 for open-end generation.\n"
     ]
    },
    {
     "data": {
      "text/plain": [
       "'Yes, you can still join the course.'"
      ]
     },
     "execution_count": 24,
     "metadata": {},
     "output_type": "execute_result"
    }
   ],
   "source": [
    "rag(\"I just discovered the course. Can I still join it?\")"
   ]
  },
  {
   "cell_type": "markdown",
   "id": "54ccee3b-bedf-4900-9cd1-0946072161ac",
   "metadata": {},
   "source": [
    "**Explanation of Parameters:**\n",
    "\n",
    "\n",
    "* `max_length`: Sets the maximum number of tokens to generate. \n",
    "* `truncation`: When set to True, it truncates the input sequence to the maximum length if it exceeds it.\n",
    "* `temperature`: Controls the randomness of the output. A value of 0.7 provides a balance between creativity and coherence.\n",
    "* `top_p`: Uses nucleus sampling, where only the most probable tokens with cumulative probability less than the specified value (0.95 here) are considered for generation.\n",
    "* `num_return_sequences`: Specifies the number of alternative sequences to generate. Here, it's set to 1, meaning only one output sequence will be returned.\n"
   ]
  },
  {
   "cell_type": "code",
   "execution_count": null,
   "id": "cebd4390-fb50-4ba7-bee3-e79d3c547d3d",
   "metadata": {},
   "outputs": [],
   "source": []
  }
 ],
 "metadata": {
  "kernelspec": {
   "display_name": "saturn (Python 3)",
   "language": "python",
   "name": "python3"
  },
  "language_info": {
   "codemirror_mode": {
    "name": "ipython",
    "version": 3
   },
   "file_extension": ".py",
   "mimetype": "text/x-python",
   "name": "python",
   "nbconvert_exporter": "python",
   "pygments_lexer": "ipython3",
   "version": "3.9.18"
  }
 },
 "nbformat": 4,
 "nbformat_minor": 5
}
