{
 "cells": [
  {
   "cell_type": "code",
   "execution_count": 1,
   "id": "db445710-745f-4ffb-ab54-65230cd68f72",
   "metadata": {},
   "outputs": [],
   "source": [
    "import openai"
   ]
  },
  {
   "cell_type": "code",
   "execution_count": 2,
   "id": "d5a3adfa-18d0-4266-8d88-2df2103ff1be",
   "metadata": {},
   "outputs": [],
   "source": [
    "from openai import OpenAI"
   ]
  },
  {
   "cell_type": "code",
   "execution_count": 7,
   "id": "971e8ec1-ff6c-4a7d-b8ae-9c98461d1e63",
   "metadata": {},
   "outputs": [],
   "source": [
    "client = OpenAI(base_url=\"https://api.perplexity.ai\")"
   ]
  },
  {
   "cell_type": "code",
   "execution_count": 8,
   "id": "7a2ca85d-bcf1-4ec5-a3d4-7196dd5bd996",
   "metadata": {},
   "outputs": [],
   "source": [
    "#import os"
   ]
  },
  {
   "cell_type": "code",
   "execution_count": 9,
   "id": "666202b7-e590-43a2-bda9-dd9d3d22eb80",
   "metadata": {},
   "outputs": [],
   "source": [
    "#os.environ"
   ]
  },
  {
   "cell_type": "code",
   "execution_count": 12,
   "id": "e6a884cf-4061-4ac2-9c91-d1b2167a3ec3",
   "metadata": {},
   "outputs": [],
   "source": [
    "response = client.chat.completions.create(\n",
    "    model = \"llama-3-sonar-small-32k-chat\",\n",
    "    messages = [{\"role\": \"user\", \"content\": \"is it too late to join the course?\"}]\n",
    ")"
   ]
  },
  {
   "cell_type": "code",
   "execution_count": 15,
   "id": "2b244c3c-771a-4ded-b04f-04a0125edb2c",
   "metadata": {},
   "outputs": [
    {
     "data": {
      "text/plain": [
       "\"I'm happy to help However, I need more information about the course you're referring to. Could you please provide more context or details about the course, such as:\\n\\n1. What is the course about?\\n2. Who is the instructor or organization offering the course?\\n3. What is the deadline for joining the course?\\n4. Have you already checked the course website or contact the instructor to inquire about joining?\\n\\nOnce I have more information, I can better assist you in determining whether it's too late to join the course.\""
      ]
     },
     "execution_count": 15,
     "metadata": {},
     "output_type": "execute_result"
    }
   ],
   "source": [
    "response.choices[0].message.content"
   ]
  },
  {
   "cell_type": "code",
   "execution_count": null,
   "id": "21fa7bfa-dc47-42cb-b2c0-b70c7aaef06e",
   "metadata": {},
   "outputs": [],
   "source": []
  }
 ],
 "metadata": {
  "kernelspec": {
   "display_name": "Python 3 (ipykernel)",
   "language": "python",
   "name": "python3"
  },
  "language_info": {
   "codemirror_mode": {
    "name": "ipython",
    "version": 3
   },
   "file_extension": ".py",
   "mimetype": "text/x-python",
   "name": "python",
   "nbconvert_exporter": "python",
   "pygments_lexer": "ipython3",
   "version": "3.10.13"
  }
 },
 "nbformat": 4,
 "nbformat_minor": 5
}
