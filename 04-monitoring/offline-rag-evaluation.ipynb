{
 "cells": [
  {
   "cell_type": "markdown",
   "id": "5be466fa-7b61-40b9-ba1c-7e38395f7329",
   "metadata": {},
   "source": [
    "## Load docs"
   ]
  },
  {
   "cell_type": "code",
   "execution_count": 1,
   "id": "e3588d62-8d52-4d3e-a972-6230eae7b82d",
   "metadata": {},
   "outputs": [],
   "source": [
    "import requests \n",
    "\n",
    "base_url = 'https://github.com/anastasiia-popova/LLM-Zoomcamp/blob/main'\n",
    "relative_url = '03-vector-search/documents-with-ids.json'\n",
    "docs_url = f'{base_url}/{relative_url}?raw=1'\n",
    "docs_response = requests.get(docs_url)\n",
    "documents = docs_response.json()"
   ]
  },
  {
   "cell_type": "code",
   "execution_count": 2,
   "id": "a60ddcfd-fc76-4df8-8baa-0391ccce4e0a",
   "metadata": {},
   "outputs": [
    {
     "data": {
      "text/plain": [
       "{'text': 'It depends on your background and previous experience with modules. It is expected to require about 5 - 15 hours per week. [source1] [source2]\\nYou can also calculate it yourself using this data and then update this answer.',\n",
       " 'section': 'General course-related questions',\n",
       " 'question': 'Course - \\u200b\\u200bHow many hours per week am I expected to spend on this  course?',\n",
       " 'course': 'data-engineering-zoomcamp',\n",
       " 'id': 'ea739c65'}"
      ]
     },
     "execution_count": 2,
     "metadata": {},
     "output_type": "execute_result"
    }
   ],
   "source": [
    "documents[10]"
   ]
  },
  {
   "cell_type": "code",
   "execution_count": 3,
   "id": "04a7f020-3b18-4db4-98d9-2df54deefe46",
   "metadata": {},
   "outputs": [],
   "source": [
    "import pandas as pd\n",
    "\n",
    "relative_url = '03-vector-search/ground-truth-data.csv'\n",
    "ground_truth_url = f'{base_url}/{relative_url}?raw=1'\n",
    "\n",
    "df_ground_truth = pd.read_csv(ground_truth_url)\n",
    "df_ground_truth = df_ground_truth[df_ground_truth.course == 'machine-learning-zoomcamp']\n",
    "ground_truth = df_ground_truth.to_dict(orient='records')"
   ]
  },
  {
   "cell_type": "code",
   "execution_count": 4,
   "id": "b9a1246c-e4c6-40fd-b87c-a062f5a24336",
   "metadata": {},
   "outputs": [
    {
     "data": {
      "text/plain": [
       "{'question': 'Are sessions recorded if I miss one?',\n",
       " 'course': 'machine-learning-zoomcamp',\n",
       " 'document': '5170565b'}"
      ]
     },
     "execution_count": 4,
     "metadata": {},
     "output_type": "execute_result"
    }
   ],
   "source": [
    "ground_truth[10]"
   ]
  },
  {
   "cell_type": "code",
   "execution_count": 5,
   "id": "f15a4103-08fa-4798-ad3b-6f30f5081854",
   "metadata": {},
   "outputs": [
    {
     "data": {
      "text/plain": [
       "'Everything is recorded, so you won’t miss anything. You will be able to ask your questions for office hours in advance and we will cover them during the live stream. Also, you can always ask questions in Slack.'"
      ]
     },
     "execution_count": 5,
     "metadata": {},
     "output_type": "execute_result"
    }
   ],
   "source": [
    "doc_idx = {d['id']: d for d in documents}\n",
    "\n",
    "doc_idx['5170565b']['text']"
   ]
  },
  {
   "cell_type": "markdown",
   "id": "673ba4e8-5fab-40ab-91e3-602b06eeee2b",
   "metadata": {},
   "source": [
    "## Index data"
   ]
  },
  {
   "cell_type": "code",
   "execution_count": 6,
   "id": "e43738e1-3050-4aa9-9f3d-6987d626776f",
   "metadata": {},
   "outputs": [],
   "source": [
    "from sentence_transformers import SentenceTransformer\n",
    "\n",
    "model_name = 'multi-qa-MiniLM-L6-cos-v1'\n",
    "model = SentenceTransformer(model_name)"
   ]
  },
  {
   "cell_type": "code",
   "execution_count": 7,
   "id": "273c9781-1535-4e59-9a5a-42c5762ff527",
   "metadata": {},
   "outputs": [
    {
     "data": {
      "text/plain": [
       "ObjectApiResponse({'acknowledged': True, 'shards_acknowledged': True, 'index': 'course-questions'})"
      ]
     },
     "execution_count": 7,
     "metadata": {},
     "output_type": "execute_result"
    }
   ],
   "source": [
    "from elasticsearch import Elasticsearch\n",
    "\n",
    "es_client = Elasticsearch('http://localhost:9200') \n",
    "\n",
    "index_settings = {\n",
    "    \"settings\": {\n",
    "        \"number_of_shards\": 1,\n",
    "        \"number_of_replicas\": 0\n",
    "    },\n",
    "    \"mappings\": {\n",
    "        \"properties\": {\n",
    "            \"text\": {\"type\": \"text\"},\n",
    "            \"section\": {\"type\": \"text\"},\n",
    "            \"question\": {\"type\": \"text\"},\n",
    "            \"course\": {\"type\": \"keyword\"},\n",
    "            \"id\": {\"type\": \"keyword\"},\n",
    "            \"question_text_vector\": {\n",
    "                \"type\": \"dense_vector\",\n",
    "                \"dims\": 384,\n",
    "                \"index\": True,\n",
    "                \"similarity\": \"cosine\"\n",
    "            },\n",
    "        }\n",
    "    }\n",
    "}\n",
    "\n",
    "index_name = \"course-questions\"\n",
    "\n",
    "es_client.indices.delete(index=index_name, ignore_unavailable=True)\n",
    "es_client.indices.create(index=index_name, body=index_settings)"
   ]
  },
  {
   "cell_type": "code",
   "execution_count": 8,
   "id": "add90cf2-39a3-4b8c-98ac-b80cfdccc33b",
   "metadata": {},
   "outputs": [
    {
     "data": {
      "application/vnd.jupyter.widget-view+json": {
       "model_id": "67dbc644dfa74261aceda1ed080c8706",
       "version_major": 2,
       "version_minor": 0
      },
      "text/plain": [
       "  0%|          | 0/1010 [00:00<?, ?it/s]"
      ]
     },
     "metadata": {},
     "output_type": "display_data"
    }
   ],
   "source": [
    "from tqdm.auto import tqdm\n",
    "\n",
    "for doc in tqdm(documents):\n",
    "    question = doc['question']\n",
    "    text = doc['text']\n",
    "    doc['question_text_vector'] = model.encode(question + ' ' + text)\n",
    "\n",
    "    es_client.index(index=index_name, document=doc)"
   ]
  },
  {
   "cell_type": "markdown",
   "id": "664eb57f-db4f-4c98-87d6-7a0267f7295e",
   "metadata": {},
   "source": [
    "## Retrieval"
   ]
  },
  {
   "cell_type": "code",
   "execution_count": 9,
   "id": "8bab2842-2b1c-40b2-9020-69b8f8a2782b",
   "metadata": {},
   "outputs": [],
   "source": [
    "def elastic_search_knn(field, vector, course):\n",
    "    knn = {\n",
    "        \"field\": field,\n",
    "        \"query_vector\": vector,\n",
    "        \"k\": 5,\n",
    "        \"num_candidates\": 10000,\n",
    "        \"filter\": {\n",
    "            \"term\": {\n",
    "                \"course\": course\n",
    "            }\n",
    "        }\n",
    "    }\n",
    "\n",
    "    search_query = {\n",
    "        \"knn\": knn,\n",
    "        \"_source\": [\"text\", \"section\", \"question\", \"course\", \"id\"]\n",
    "    }\n",
    "\n",
    "    es_results = es_client.search(\n",
    "        index=index_name,\n",
    "        body=search_query\n",
    "    )\n",
    "    \n",
    "    result_docs = []\n",
    "    \n",
    "    for hit in es_results['hits']['hits']:\n",
    "        result_docs.append(hit['_source'])\n",
    "\n",
    "    return result_docs\n",
    "\n",
    "def question_text_vector_knn(q):\n",
    "    question = q['question']\n",
    "    course = q['course']\n",
    "\n",
    "    v_q = model.encode(question)\n",
    "\n",
    "    return elastic_search_knn('question_text_vector', v_q, course)"
   ]
  },
  {
   "cell_type": "code",
   "execution_count": 10,
   "id": "c10c2326-8c8d-42d0-8472-890a1a7fe354",
   "metadata": {},
   "outputs": [
    {
     "data": {
      "text/plain": [
       "[{'question': 'What if I miss a session?',\n",
       "  'course': 'machine-learning-zoomcamp',\n",
       "  'section': 'General course-related questions',\n",
       "  'text': 'Everything is recorded, so you won’t miss anything. You will be able to ask your questions for office hours in advance and we will cover them during the live stream. Also, you can always ask questions in Slack.',\n",
       "  'id': '5170565b'},\n",
       " {'question': 'The same accuracy on epochs',\n",
       "  'course': 'machine-learning-zoomcamp',\n",
       "  'section': '8. Neural Networks and Deep Learning',\n",
       "  'text': \"Problem description\\nThe accuracy and the loss are both still the same or nearly the same while training.\\nSolution description\\nIn the homework, you should set class_mode='binary' while reading the data.\\nAlso, problem occurs when you choose the wrong optimizer, batch size, or learning rate\\nAdded by Ekaterina Kutovaia\",\n",
       "  'id': '7d11d5ce'},\n",
       " {'question': 'Useful Resource for Missing Data Treatment\\nhttps://www.kaggle.com/code/parulpandey/a-guide-to-handling-missing-values-in-python/notebook',\n",
       "  'course': 'machine-learning-zoomcamp',\n",
       "  'section': '2. Machine Learning for Regression',\n",
       "  'text': '(Hrithik Kumar Advani)',\n",
       "  'id': '81b8e8d0'},\n",
       " {'question': 'Is it going to be live? When?',\n",
       "  'course': 'machine-learning-zoomcamp',\n",
       "  'section': 'General course-related questions',\n",
       "  'text': 'The course videos are pre-recorded, you can start watching the course right now.\\nThe zoomcamps are spread out throughout the year. See article https://datatalks.club/blog/guide-to-free-online-courses-at-datatalks-club.html\\nWe will also occasionally have office hours - live sessions where we will answer your questions. The office hours sessions are recorded too.\\nYou can see the office hours (playlist with year 20xx) as well as the pre-recorded course videos in (playlist without year) in Course Channel’s Bookmarks and/or DTC’s youtube channel',\n",
       "  'id': '39fda9f0'},\n",
       " {'question': 'Will I get a certificate if I missed the midterm project?',\n",
       "  'course': 'machine-learning-zoomcamp',\n",
       "  'section': 'General course-related questions',\n",
       "  'text': \"Yes, it's possible. See the previous answer.\",\n",
       "  'id': '1d644223'}]"
      ]
     },
     "execution_count": 10,
     "metadata": {},
     "output_type": "execute_result"
    }
   ],
   "source": [
    "question_text_vector_knn(dict(\n",
    "    question='Are sessions recorded if I miss one?',\n",
    "    course='machine-learning-zoomcamp'\n",
    "))"
   ]
  },
  {
   "cell_type": "markdown",
   "id": "52489f71-0a4c-4666-b33e-405bc2a48346",
   "metadata": {},
   "source": [
    "##  RAG"
   ]
  },
  {
   "cell_type": "code",
   "execution_count": 11,
   "id": "21dacbec-5ba8-4bbe-95fc-23bbbb4fbf30",
   "metadata": {},
   "outputs": [],
   "source": [
    "def build_prompt(query, search_results):\n",
    "    prompt_template = \"\"\"\n",
    "You're a course teaching assistant. Answer the QUESTION based on the CONTEXT from the FAQ database.\n",
    "Use only the facts from the CONTEXT when answering the QUESTION.\n",
    "\n",
    "QUESTION: {question}\n",
    "\n",
    "CONTEXT: \n",
    "{context}\n",
    "\"\"\".strip()\n",
    "\n",
    "    context = \"\"\n",
    "    \n",
    "    for doc in search_results:\n",
    "        context = context + f\"section: {doc['section']}\\nquestion: {doc['question']}\\nanswer: {doc['text']}\\n\\n\"\n",
    "    \n",
    "    prompt = prompt_template.format(question=query, context=context).strip()\n",
    "    return prompt"
   ]
  },
  {
   "cell_type": "code",
   "execution_count": 12,
   "id": "282bdd96-5474-4bc0-b185-de1fda040021",
   "metadata": {},
   "outputs": [],
   "source": [
    "from openai import OpenAI\n",
    "import os"
   ]
  },
  {
   "cell_type": "code",
   "execution_count": 13,
   "id": "73ed8ce9-3f82-4b2f-a081-dadc2a3abee7",
   "metadata": {},
   "outputs": [],
   "source": [
    "#os.environ['OPENAI_API_KEY']='pplx-...'"
   ]
  },
  {
   "cell_type": "code",
   "execution_count": 16,
   "id": "c4d4d697-cf92-416f-ab1a-6e71694da9c7",
   "metadata": {},
   "outputs": [],
   "source": [
    "client = OpenAI(base_url=\"https://api.perplexity.ai\")"
   ]
  },
  {
   "cell_type": "code",
   "execution_count": 17,
   "id": "c44a5a5a-a860-4b18-8ebe-b6a294eaf22a",
   "metadata": {},
   "outputs": [],
   "source": [
    "\n",
    "def llm(prompt, model='llama-3.1-sonar-small-128k-online'):\n",
    "    response = client.chat.completions.create(\n",
    "        model=model,\n",
    "        messages=[{\"role\": \"user\", \"content\": prompt}]\n",
    "    )\n",
    "    \n",
    "    return response.choices[0].message.content"
   ]
  },
  {
   "cell_type": "code",
   "execution_count": 18,
   "id": "04b971e3-2d89-41c6-b348-bf6c9c0d3968",
   "metadata": {},
   "outputs": [],
   "source": [
    "# previously: rag(query: str) -> str\n",
    "def rag(query: dict, model='llama-3.1-sonar-small-128k-online') -> str:\n",
    "    search_results = question_text_vector_knn(query)\n",
    "    prompt = build_prompt(query['question'], search_results)\n",
    "    answer = llm(prompt, model=model)\n",
    "    return answer"
   ]
  },
  {
   "cell_type": "code",
   "execution_count": 20,
   "id": "2812b88b-31be-42f7-bbf0-36c533acf20d",
   "metadata": {},
   "outputs": [
    {
     "data": {
      "text/plain": [
       "{'question': 'Are sessions recorded if I miss one?',\n",
       " 'course': 'machine-learning-zoomcamp',\n",
       " 'document': '5170565b'}"
      ]
     },
     "execution_count": 20,
     "metadata": {},
     "output_type": "execute_result"
    }
   ],
   "source": [
    "ground_truth[10]"
   ]
  },
  {
   "cell_type": "code",
   "execution_count": 21,
   "id": "b2e609dd-a449-4d55-b75f-a4bfe6635373",
   "metadata": {},
   "outputs": [
    {
     "data": {
      "text/plain": [
       "'Yes, sessions are recorded if you miss one. The course videos are pre-recorded, and office hours sessions are also recorded. This way, you can watch the sessions later and still participate by asking questions in advance or through Slack.'"
      ]
     },
     "execution_count": 21,
     "metadata": {},
     "output_type": "execute_result"
    }
   ],
   "source": [
    "rag(ground_truth[10])"
   ]
  },
  {
   "cell_type": "code",
   "execution_count": 22,
   "id": "1d695dd8-5020-4ccb-ae78-e3fd3dfad7a8",
   "metadata": {},
   "outputs": [
    {
     "data": {
      "text/plain": [
       "{'question': 'Are sessions recorded if I miss one?',\n",
       " 'course': 'machine-learning-zoomcamp',\n",
       " 'document': '5170565b'}"
      ]
     },
     "execution_count": 22,
     "metadata": {},
     "output_type": "execute_result"
    }
   ],
   "source": [
    "ground_truth[10]"
   ]
  },
  {
   "cell_type": "markdown",
   "id": "243a4240-a457-443f-810a-077f32564651",
   "metadata": {},
   "source": [
    "## Cosine similarity metric\n",
    "\n",
    "A -> Q -> A' -> cosine(A, A')\n",
    "\n",
    "We have answers -> generate questions using LLM -> generate answers based on these questions -> \n",
    "\n",
    "compare original answers and generate answers using cosine similarity\n",
    "\n",
    "\n"
   ]
  },
  {
   "cell_type": "code",
   "execution_count": 23,
   "id": "035b3ccb-d6b0-4d91-9aca-d4078ff1842e",
   "metadata": {},
   "outputs": [
    {
     "data": {
      "text/plain": [
       "0.8913661"
      ]
     },
     "execution_count": 23,
     "metadata": {},
     "output_type": "execute_result"
    }
   ],
   "source": [
    "answer_orig = 'Yes, sessions are recorded if you miss one. Everything is recorded, allowing you to catch up on any missed content. Additionally, you can ask questions in advance for office hours and have them addressed during the live stream. You can also ask questions in Slack.'\n",
    "answer_llm = 'Yes, sessions are recorded if you miss one. The course videos are pre-recorded, and office hours sessions are also recorded. This way, you can watch the sessions later and still participate by asking questions in advance or through Slack.'\n",
    "v_llm = model.encode(answer_llm)\n",
    "v_orig = model.encode(answer_orig)\n",
    "\n",
    "v_llm.dot(v_orig)"
   ]
  },
  {
   "cell_type": "code",
   "execution_count": 24,
   "id": "262386dd-d272-4703-a6a4-b65df69ffc00",
   "metadata": {},
   "outputs": [
    {
     "data": {
      "text/plain": [
       "1825"
      ]
     },
     "execution_count": 24,
     "metadata": {},
     "output_type": "execute_result"
    }
   ],
   "source": [
    "len(ground_truth)"
   ]
  },
  {
   "cell_type": "code",
   "execution_count": 25,
   "id": "147edabf-b956-43cd-8d44-952a021922d5",
   "metadata": {},
   "outputs": [],
   "source": [
    "sample_gt = ground_truth[:10]"
   ]
  },
  {
   "cell_type": "code",
   "execution_count": 26,
   "id": "4a354d2a-283a-4221-b978-4f4dbbe268de",
   "metadata": {},
   "outputs": [],
   "source": [
    "answers = {}"
   ]
  },
  {
   "cell_type": "code",
   "execution_count": 27,
   "id": "541bd800-39f6-4c96-9185-b0eda487e53e",
   "metadata": {},
   "outputs": [
    {
     "data": {
      "application/vnd.jupyter.widget-view+json": {
       "model_id": "742b24a0d2c041cdb8fd50f14e2db7d0",
       "version_major": 2,
       "version_minor": 0
      },
      "text/plain": [
       "  0%|          | 0/10 [00:00<?, ?it/s]"
      ]
     },
     "metadata": {},
     "output_type": "display_data"
    }
   ],
   "source": [
    "# it costs money to do: 0.02$ for 10 questions \n",
    "\n",
    "for i, rec in enumerate(tqdm(sample_gt)):\n",
    "    if i in answers:\n",
    "        continue\n",
    "\n",
    "    answer_llm = rag(rec)\n",
    "    doc_id = rec['document']\n",
    "    original_doc = doc_idx[doc_id]\n",
    "    answer_orig = original_doc['text']\n",
    "\n",
    "    answers[i] = {\n",
    "        'answer_llm': answer_llm,\n",
    "        'answer_orig': answer_orig,\n",
    "        'document': doc_id,\n",
    "        'question': rec['question'],\n",
    "        'course': rec['course'],\n",
    "    }\n",
    "\n",
    "\n",
    "def process_record(rec, model_used):\n",
    "    answer_llm = rag(rec, model=model_used)\n",
    "    \n",
    "    doc_id = rec['document']\n",
    "    original_doc = doc_idx[doc_id]\n",
    "    answer_orig = original_doc['text']\n",
    "\n",
    "    return {\n",
    "        'answer_llm': answer_llm,\n",
    "        'answer_orig': answer_orig,\n",
    "        'document': doc_id,\n",
    "        'question': rec['question'],\n",
    "        'course': rec['course'],\n",
    "    }\n"
   ]
  },
  {
   "cell_type": "code",
   "execution_count": 29,
   "id": "44b9641e-6254-4149-9dab-45d07500b96b",
   "metadata": {},
   "outputs": [],
   "source": [
    "results_llama = [None] * len(sample_gt)\n",
    "\n",
    "for i, val in answers.items():\n",
    "    results_llama[i] = val.copy()\n",
    "    results_llama[i].update(sample_gt[i])"
   ]
  },
  {
   "cell_type": "code",
   "execution_count": 30,
   "id": "437b9a2c-cd44-4bc1-b872-1bde25da302d",
   "metadata": {},
   "outputs": [],
   "source": [
    "import pandas as pd\n",
    "df_llama = pd.DataFrame(results_llama)"
   ]
  },
  {
   "cell_type": "code",
   "execution_count": 31,
   "id": "ae0e59c5-2f4f-46b9-bfe3-72d871de19be",
   "metadata": {},
   "outputs": [
    {
     "data": {
      "text/html": [
       "<div>\n",
       "<style scoped>\n",
       "    .dataframe tbody tr th:only-of-type {\n",
       "        vertical-align: middle;\n",
       "    }\n",
       "\n",
       "    .dataframe tbody tr th {\n",
       "        vertical-align: top;\n",
       "    }\n",
       "\n",
       "    .dataframe thead th {\n",
       "        text-align: right;\n",
       "    }\n",
       "</style>\n",
       "<table border=\"1\" class=\"dataframe\">\n",
       "  <thead>\n",
       "    <tr style=\"text-align: right;\">\n",
       "      <th></th>\n",
       "      <th>answer_llm</th>\n",
       "      <th>answer_orig</th>\n",
       "      <th>document</th>\n",
       "      <th>question</th>\n",
       "      <th>course</th>\n",
       "    </tr>\n",
       "  </thead>\n",
       "  <tbody>\n",
       "    <tr>\n",
       "      <th>0</th>\n",
       "      <td>To create a chatbot using data stored in a hug...</td>\n",
       "      <td>Machine Learning Zoomcamp FAQ\\nThe purpose of ...</td>\n",
       "      <td>0227b872</td>\n",
       "      <td>Where can I sign up for the course?</td>\n",
       "      <td>machine-learning-zoomcamp</td>\n",
       "    </tr>\n",
       "    <tr>\n",
       "      <th>1</th>\n",
       "      <td>To prevent ChatGPT from answering questions th...</td>\n",
       "      <td>Machine Learning Zoomcamp FAQ\\nThe purpose of ...</td>\n",
       "      <td>0227b872</td>\n",
       "      <td>Can you provide a link to sign up?</td>\n",
       "      <td>machine-learning-zoomcamp</td>\n",
       "    </tr>\n",
       "    <tr>\n",
       "      <th>2</th>\n",
       "      <td>To answer the question based on the context fr...</td>\n",
       "      <td>Machine Learning Zoomcamp FAQ\\nThe purpose of ...</td>\n",
       "      <td>0227b872</td>\n",
       "      <td>Is there an FAQ for this Machine Learning course?</td>\n",
       "      <td>machine-learning-zoomcamp</td>\n",
       "    </tr>\n",
       "    <tr>\n",
       "      <th>3</th>\n",
       "      <td>To resolve the \"Permission denied\" error when ...</td>\n",
       "      <td>Machine Learning Zoomcamp FAQ\\nThe purpose of ...</td>\n",
       "      <td>0227b872</td>\n",
       "      <td>Does this course have a GitHub repository for ...</td>\n",
       "      <td>machine-learning-zoomcamp</td>\n",
       "    </tr>\n",
       "    <tr>\n",
       "      <th>4</th>\n",
       "      <td>The provided sources discuss various aspects o...</td>\n",
       "      <td>Machine Learning Zoomcamp FAQ\\nThe purpose of ...</td>\n",
       "      <td>0227b872</td>\n",
       "      <td>How can I structure my questions and answers f...</td>\n",
       "      <td>machine-learning-zoomcamp</td>\n",
       "    </tr>\n",
       "    <tr>\n",
       "      <th>5</th>\n",
       "      <td>The course videos are pre-recorded.</td>\n",
       "      <td>The course videos are pre-recorded, you can st...</td>\n",
       "      <td>39fda9f0</td>\n",
       "      <td>Are the course videos live or pre-recorded?</td>\n",
       "      <td>machine-learning-zoomcamp</td>\n",
       "    </tr>\n",
       "    <tr>\n",
       "      <th>6</th>\n",
       "      <td>The provided sources cover a variety of topics...</td>\n",
       "      <td>The course videos are pre-recorded, you can st...</td>\n",
       "      <td>39fda9f0</td>\n",
       "      <td>When can I start watching the course videos?</td>\n",
       "      <td>machine-learning-zoomcamp</td>\n",
       "    </tr>\n",
       "    <tr>\n",
       "      <th>7</th>\n",
       "      <td>QUESTION: Are the live office hours sessions r...</td>\n",
       "      <td>The course videos are pre-recorded, you can st...</td>\n",
       "      <td>39fda9f0</td>\n",
       "      <td>Are the live office hours sessions recorded?</td>\n",
       "      <td>machine-learning-zoomcamp</td>\n",
       "    </tr>\n",
       "    <tr>\n",
       "      <th>8</th>\n",
       "      <td>You can find the office hours sessions by acce...</td>\n",
       "      <td>The course videos are pre-recorded, you can st...</td>\n",
       "      <td>39fda9f0</td>\n",
       "      <td>Where can I find the office hours sessions?</td>\n",
       "      <td>machine-learning-zoomcamp</td>\n",
       "    </tr>\n",
       "    <tr>\n",
       "      <th>9</th>\n",
       "      <td>Sure, here are the answers to the study questi...</td>\n",
       "      <td>The course videos are pre-recorded, you can st...</td>\n",
       "      <td>39fda9f0</td>\n",
       "      <td>Where can I access the pre-recorded course vid...</td>\n",
       "      <td>machine-learning-zoomcamp</td>\n",
       "    </tr>\n",
       "  </tbody>\n",
       "</table>\n",
       "</div>"
      ],
      "text/plain": [
       "                                          answer_llm  \\\n",
       "0  To create a chatbot using data stored in a hug...   \n",
       "1  To prevent ChatGPT from answering questions th...   \n",
       "2  To answer the question based on the context fr...   \n",
       "3  To resolve the \"Permission denied\" error when ...   \n",
       "4  The provided sources discuss various aspects o...   \n",
       "5                The course videos are pre-recorded.   \n",
       "6  The provided sources cover a variety of topics...   \n",
       "7  QUESTION: Are the live office hours sessions r...   \n",
       "8  You can find the office hours sessions by acce...   \n",
       "9  Sure, here are the answers to the study questi...   \n",
       "\n",
       "                                         answer_orig  document  \\\n",
       "0  Machine Learning Zoomcamp FAQ\\nThe purpose of ...  0227b872   \n",
       "1  Machine Learning Zoomcamp FAQ\\nThe purpose of ...  0227b872   \n",
       "2  Machine Learning Zoomcamp FAQ\\nThe purpose of ...  0227b872   \n",
       "3  Machine Learning Zoomcamp FAQ\\nThe purpose of ...  0227b872   \n",
       "4  Machine Learning Zoomcamp FAQ\\nThe purpose of ...  0227b872   \n",
       "5  The course videos are pre-recorded, you can st...  39fda9f0   \n",
       "6  The course videos are pre-recorded, you can st...  39fda9f0   \n",
       "7  The course videos are pre-recorded, you can st...  39fda9f0   \n",
       "8  The course videos are pre-recorded, you can st...  39fda9f0   \n",
       "9  The course videos are pre-recorded, you can st...  39fda9f0   \n",
       "\n",
       "                                            question  \\\n",
       "0                Where can I sign up for the course?   \n",
       "1                 Can you provide a link to sign up?   \n",
       "2  Is there an FAQ for this Machine Learning course?   \n",
       "3  Does this course have a GitHub repository for ...   \n",
       "4  How can I structure my questions and answers f...   \n",
       "5        Are the course videos live or pre-recorded?   \n",
       "6       When can I start watching the course videos?   \n",
       "7       Are the live office hours sessions recorded?   \n",
       "8        Where can I find the office hours sessions?   \n",
       "9  Where can I access the pre-recorded course vid...   \n",
       "\n",
       "                      course  \n",
       "0  machine-learning-zoomcamp  \n",
       "1  machine-learning-zoomcamp  \n",
       "2  machine-learning-zoomcamp  \n",
       "3  machine-learning-zoomcamp  \n",
       "4  machine-learning-zoomcamp  \n",
       "5  machine-learning-zoomcamp  \n",
       "6  machine-learning-zoomcamp  \n",
       "7  machine-learning-zoomcamp  \n",
       "8  machine-learning-zoomcamp  \n",
       "9  machine-learning-zoomcamp  "
      ]
     },
     "execution_count": 31,
     "metadata": {},
     "output_type": "execute_result"
    }
   ],
   "source": [
    "df_llama"
   ]
  },
  {
   "cell_type": "code",
   "execution_count": 34,
   "id": "58eac9b7-dd44-4211-b8dc-aa063a755c4b",
   "metadata": {},
   "outputs": [],
   "source": [
    "df_llama.to_csv('data/results-llama.csv', index=False)"
   ]
  },
  {
   "cell_type": "code",
   "execution_count": 36,
   "id": "42b2c48c-b533-4e62-94be-bf63a95c64b5",
   "metadata": {},
   "outputs": [],
   "source": [
    "from tqdm.auto import tqdm\n",
    "\n",
    "from concurrent.futures import ThreadPoolExecutor\n",
    "\n",
    "pool = ThreadPoolExecutor(max_workers=6)\n",
    "\n",
    "def map_progress(pool, seq, f):\n",
    "    results = []\n",
    "\n",
    "    with tqdm(total=len(seq)) as progress:\n",
    "        futures = []\n",
    "\n",
    "        for el in seq:\n",
    "            future = pool.submit(f, el)\n",
    "            future.add_done_callback(lambda p: progress.update())\n",
    "            futures.append(future)\n",
    "\n",
    "        for future in futures:\n",
    "            result = future.result()\n",
    "            results.append(result)\n",
    "\n",
    "    return results"
   ]
  },
  {
   "cell_type": "code",
   "execution_count": 37,
   "id": "7479d958-d55a-4532-93f5-3f92ed101884",
   "metadata": {},
   "outputs": [
    {
     "data": {
      "text/plain": [
       "{'answer_llm': 'The entity type `<type>` is not part of the model for the current context. This error typically occurs when the Entity Framework is unable to find the specified entity type in the model. Here are some common solutions to this issue:\\n\\n1. **Ensure Entity Type is Mapped**: Make sure that the entity type is properly mapped in the `OnModelCreating` method of your `DbContext` class. This method is used to configure the model that the context uses to interact with the database.\\n\\n    ```csharp\\n    protected override void OnModelCreating(ModelBuilder modelBuilder)\\n    {\\n        modelBuilder.Entity<MyEntityType>().ToTable(\"MyTable\");\\n        modelBuilder.Entity<MyEntityType>().HasKey(e => e.Id);\\n        modelBuilder.Entity<MyEntityType>().HasMany(e => e.RelatedEntities).WithOne().HasForeignKey(e => e.ForeignKey);\\n        // Add other mappings as needed\\n    }\\n    ```\\n\\n2. **Check for Renamed Entities**: If you have renamed any entities, ensure that the new names are correctly reflected in the model configuration.\\n\\n3. **Primary Key**: Ensure that the primary key of the table is correctly defined in the entity class.\\n\\n4. **Data Annotations**: If you are using data annotations, ensure that they are correctly applied to the entity properties.\\n\\n5. **Database First Approach**: If you are using the database first approach, ensure that the tables and their primary keys are correctly defined in the database.\\n\\n6. **Clean and Rebuild Project**: Sometimes, cleaning and rebuilding the project can resolve issues related to missing entity types.\\n\\n7. **Delete and Re-add EDMX**: If you have upgraded Entity Framework, try deleting the EDMX file and re-adding it to ensure that the metadata is correctly updated.\\n\\nBy following these steps, you should be able to resolve the issue where the entity type is not part of the model for the current context.',\n",
       " 'answer_orig': 'Everything is recorded, so you won’t miss anything. You will be able to ask your questions for office hours in advance and we will cover them during the live stream. Also, you can always ask questions in Slack.',\n",
       " 'document': '5170565b',\n",
       " 'question': 'Are sessions recorded if I miss one?',\n",
       " 'course': 'machine-learning-zoomcamp'}"
      ]
     },
     "execution_count": 37,
     "metadata": {},
     "output_type": "execute_result"
    }
   ],
   "source": [
    "process_record(ground_truth[10], model_used='llama-3.1-sonar-small-128k-online')"
   ]
  },
  {
   "cell_type": "code",
   "execution_count": 43,
   "id": "858fb22e-0ed0-49c2-a5cc-9ac1f9bcceaa",
   "metadata": {},
   "outputs": [],
   "source": [
    "# results_gpt35 = map_progress(pool, ground_truth, process_record)"
   ]
  },
  {
   "cell_type": "code",
   "execution_count": 38,
   "id": "c57f5fb7-fd9b-48e9-b848-feb804c57f8b",
   "metadata": {},
   "outputs": [],
   "source": [
    "df_gpt4o = pd.read_csv('data/results-gpt4o.csv')\n",
    "df_gpt35 = pd.read_csv('data/results-gpt35.csv')"
   ]
  },
  {
   "cell_type": "code",
   "execution_count": 40,
   "id": "91142c58-5c5d-40b3-940e-0f5382eaba10",
   "metadata": {},
   "outputs": [
    {
     "data": {
      "text/plain": [
       "{'answer_llm': 'The CONTEXT provided does not give specific instructions on how to sign up for the course. However, it does mention that you can access the course materials on the course page: [ML Zoomcamp](http://mlzoomcamp.com/). \\n\\nYou might want to start by visiting the course website and looking for further instructions there, as it likely has additional details on how to sign up or enroll in the course.',\n",
       " 'answer_orig': 'Machine Learning Zoomcamp FAQ\\nThe purpose of this document is to capture frequently asked technical questions.\\nWe did this for our data engineering course and it worked quite well. Check this document for inspiration on how to structure your questions and answers:\\nData Engineering Zoomcamp FAQ\\nIn the course GitHub repository there’s a link. Here it is: https://airtable.com/shryxwLd0COOEaqXo\\nwork',\n",
       " 'document': '0227b872',\n",
       " 'question': 'Where can I sign up for the course?',\n",
       " 'course': 'machine-learning-zoomcamp'}"
      ]
     },
     "execution_count": 40,
     "metadata": {},
     "output_type": "execute_result"
    }
   ],
   "source": [
    "results_gpt4o = df_gpt4o.to_dict(orient='records')\n",
    "\n",
    "record = results_gpt4o[0]\n",
    "record"
   ]
  },
  {
   "cell_type": "code",
   "execution_count": 41,
   "id": "00fa17ef-bebf-4c81-b140-472df38bd30f",
   "metadata": {},
   "outputs": [],
   "source": [
    "def compute_similarity(record):\n",
    "    answer_orig = record['answer_orig']\n",
    "    answer_llm = record['answer_llm']\n",
    "    \n",
    "    v_llm = model.encode(answer_llm)\n",
    "    v_orig = model.encode(answer_orig)\n",
    "    \n",
    "    return v_llm.dot(v_orig)"
   ]
  },
  {
   "cell_type": "code",
   "execution_count": 42,
   "id": "9c461681-1f70-429a-a0c0-4077cb244aa3",
   "metadata": {},
   "outputs": [
    {
     "data": {
      "application/vnd.jupyter.widget-view+json": {
       "model_id": "0a2597d836db4b1b8aa53ef0fd48c2ac",
       "version_major": 2,
       "version_minor": 0
      },
      "text/plain": [
       "  0%|          | 0/1830 [00:00<?, ?it/s]"
      ]
     },
     "metadata": {},
     "output_type": "display_data"
    }
   ],
   "source": [
    "similarity = []\n",
    "\n",
    "for record in tqdm(results_gpt4o):\n",
    "    sim = compute_similarity(record)\n",
    "    similarity.append(sim)"
   ]
  },
  {
   "cell_type": "code",
   "execution_count": 44,
   "id": "5dfb2367-4cf6-4bb3-9e82-2a7461437f7d",
   "metadata": {},
   "outputs": [
    {
     "data": {
      "text/plain": [
       "count    1830.000000\n",
       "mean        0.679129\n",
       "std         0.217995\n",
       "min        -0.153425\n",
       "25%         0.591460\n",
       "50%         0.734788\n",
       "75%         0.835390\n",
       "max         0.995339\n",
       "Name: cosine, dtype: float64"
      ]
     },
     "execution_count": 44,
     "metadata": {},
     "output_type": "execute_result"
    }
   ],
   "source": [
    "df_gpt4o['cosine'] = similarity\n",
    "df_gpt4o['cosine'].describe()"
   ]
  },
  {
   "cell_type": "code",
   "execution_count": 45,
   "id": "11a9f7c6-a0c7-4e25-93b7-7e40c9ee6ee4",
   "metadata": {},
   "outputs": [
    {
     "data": {
      "application/vnd.jupyter.widget-view+json": {
       "model_id": "0a3cecbca3be4bd882f6ee0a5aa5829f",
       "version_major": 2,
       "version_minor": 0
      },
      "text/plain": [
       "  0%|          | 0/1830 [00:00<?, ?it/s]"
      ]
     },
     "metadata": {},
     "output_type": "display_data"
    }
   ],
   "source": [
    "results_gpt35 = df_gpt35.to_dict(orient='records')\n",
    "\n",
    "similarity_35 = []\n",
    "\n",
    "for record in tqdm(results_gpt35):\n",
    "    sim = compute_similarity(record)\n",
    "    similarity_35.append(sim)"
   ]
  },
  {
   "cell_type": "code",
   "execution_count": 46,
   "id": "19df8d60-07a7-406b-8eb4-abeaba6d7fba",
   "metadata": {},
   "outputs": [
    {
     "data": {
      "text/plain": [
       "count    1830.000000\n",
       "mean        0.657599\n",
       "std         0.226062\n",
       "min        -0.168921\n",
       "25%         0.546504\n",
       "50%         0.714783\n",
       "75%         0.817262\n",
       "max         1.000000\n",
       "Name: cosine, dtype: float64"
      ]
     },
     "execution_count": 46,
     "metadata": {},
     "output_type": "execute_result"
    }
   ],
   "source": [
    "df_gpt35['cosine'] = similarity_35\n",
    "df_gpt35['cosine'].describe()"
   ]
  },
  {
   "cell_type": "code",
   "execution_count": 47,
   "id": "6f472c6c-f7de-4d34-9b21-57a71a3f3db8",
   "metadata": {},
   "outputs": [],
   "source": [
    "import matplotlib.pyplot as plt\n",
    "import seaborn as sns"
   ]
  },
  {
   "cell_type": "code",
   "execution_count": 54,
   "id": "e0c22e50-4fb1-4fbe-86e8-165bd05632ff",
   "metadata": {},
   "outputs": [
    {
     "data": {
      "image/png": "[encoded data removed]",
      "text/plain": [
       "<Figure size 640x480 with 1 Axes>"
      ]
     },
     "metadata": {},
     "output_type": "display_data"
    }
   ],
   "source": [
    "sns.histplot(df_gpt4o['cosine'], label='4o', kde=True, element=\"step\")\n",
    "sns.histplot(df_gpt35['cosine'], label='3.5', kde=True, element=\"step\")\n",
    "\n",
    "plt.title(\"RAG LLM performance\")\n",
    "plt.xlabel(\"A->Q->A' Cosine Similarity\")\n",
    "plt.legend();"
   ]
  },
  {
   "cell_type": "markdown",
   "id": "1d51ddc1-a8db-4a94-880f-1b0ee717a170",
   "metadata": {},
   "source": [
    "0.734788 (4o) is better than   0.714783 (3.5-turbo) "
   ]
  },
  {
   "cell_type": "markdown",
   "id": "3b0cface-b126-489e-b175-35acd8cc7dc0",
   "metadata": {},
   "source": [
    "##  LLM-as-a-judge"
   ]
  },
  {
   "cell_type": "code",
   "execution_count": 55,
   "id": "a57cc63e-92dc-4a73-804f-63563236715a",
   "metadata": {},
   "outputs": [],
   "source": [
    "prompt1_template = \"\"\"\n",
    "You are an expert evaluator for a Retrieval-Augmented Generation (RAG) system.\n",
    "Your task is to analyze the relevance of the generated answer compared to the original answer provided.\n",
    "Based on the relevance and similarity of the generated answer to the original answer, you will classify\n",
    "it as \"NON_RELEVANT\", \"PARTLY_RELEVANT\", or \"RELEVANT\".\n",
    "\n",
    "Here is the data for evaluation:\n",
    "\n",
    "Original Answer: {answer_orig}\n",
    "Generated Question: {question}\n",
    "Generated Answer: {answer_llm}\n",
    "\n",
    "Please analyze the content and context of the generated answer in relation to the original\n",
    "answer and provide your evaluation in parsable JSON without using code blocks:\n",
    "\n",
    "{{\n",
    "  \"Relevance\": \"NON_RELEVANT\" | \"PARTLY_RELEVANT\" | \"RELEVANT\",\n",
    "  \"Explanation\": \"[Provide a brief explanation for your evaluation]\"\n",
    "}}\n",
    "\"\"\".strip()\n",
    "\n",
    "prompt2_template = \"\"\"\n",
    "You are an expert evaluator for a Retrieval-Augmented Generation (RAG) system.\n",
    "Your task is to analyze the relevance of the generated answer to the given question.\n",
    "Based on the relevance of the generated answer, you will classify it\n",
    "as \"NON_RELEVANT\", \"PARTLY_RELEVANT\", or \"RELEVANT\".\n",
    "\n",
    "Here is the data for evaluation:\n",
    "\n",
    "Question: {question}\n",
    "Generated Answer: {answer_llm}\n",
    "\n",
    "Please analyze the content and context of the generated answer in relation to the question\n",
    "and provide your evaluation in parsable JSON without using code blocks:\n",
    "\n",
    "{{\n",
    "  \"Relevance\": \"NON_RELEVANT\" | \"PARTLY_RELEVANT\" | \"RELEVANT\",\n",
    "  \"Explanation\": \"[Provide a brief explanation for your evaluation]\"\n",
    "}}\n",
    "\"\"\".strip()"
   ]
  },
  {
   "cell_type": "code",
   "execution_count": 61,
   "id": "f8192951-1bee-45c9-b689-bc380361e08d",
   "metadata": {},
   "outputs": [],
   "source": [
    "df_sample = df_gpt4o.sample(n=10, random_state=42)\n",
    "samples = df_sample.to_dict(orient='records')"
   ]
  },
  {
   "cell_type": "code",
   "execution_count": 62,
   "id": "4e8745ab-b0dc-410e-b4a5-22aba34f2119",
   "metadata": {},
   "outputs": [
    {
     "data": {
      "text/plain": [
       "{'answer_llm': \"Certainly! To format a number to 3 decimal places using an f-string, you can use the following syntax:\\n\\n```python\\naverage_mark = 92.34567\\nformatted_output = f'Average mark for the Homework is {average_mark:.3f}'\\nprint(formatted_output)\\n```\\n\\nThis will output:\\n\\n```\\nAverage mark for the Homework is 92.346\\n```\\n\\nThe `:.3f` within the f-string specifies that the number should be formatted to 3 decimal places.\",\n",
       " 'answer_orig': \"You can use round() function or f-strings\\nround(number, 4)  - this will round number up to 4 decimal places\\nprint(f'Average mark for the Homework is {avg:.3f}') - using F string\\nAlso there is pandas.Series. round idf you need to round values in the whole Series\\nPlease check the documentation\\nhttps://pandas.pydata.org/pandas-docs/stable/reference/api/pandas.Series.round.html#pandas.Series.round\\nAdded by Olga Rudakova\",\n",
       " 'document': '67afabf5',\n",
       " 'question': 'Can you demonstrate using f-strings to format a number to 3 decimal places?',\n",
       " 'course': 'machine-learning-zoomcamp',\n",
       " 'cosine': 0.680801510810852}"
      ]
     },
     "execution_count": 62,
     "metadata": {},
     "output_type": "execute_result"
    }
   ],
   "source": [
    "record = samples[0]\n",
    "record"
   ]
  },
  {
   "cell_type": "code",
   "execution_count": 63,
   "id": "5531df16-c3ee-41e0-9041-4c88201491df",
   "metadata": {},
   "outputs": [
    {
     "name": "stdout",
     "output_type": "stream",
     "text": [
      "You are an expert evaluator for a Retrieval-Augmented Generation (RAG) system.\n",
      "Your task is to analyze the relevance of the generated answer compared to the original answer provided.\n",
      "Based on the relevance and similarity of the generated answer to the original answer, you will classify\n",
      "it as \"NON_RELEVANT\", \"PARTLY_RELEVANT\", or \"RELEVANT\".\n",
      "\n",
      "Here is the data for evaluation:\n",
      "\n",
      "Original Answer: You can use round() function or f-strings\n",
      "round(number, 4)  - this will round number up to 4 decimal places\n",
      "print(f'Average mark for the Homework is {avg:.3f}') - using F string\n",
      "Also there is pandas.Series. round idf you need to round values in the whole Series\n",
      "Please check the documentation\n",
      "https://pandas.pydata.org/pandas-docs/stable/reference/api/pandas.Series.round.html#pandas.Series.round\n",
      "Added by Olga Rudakova\n",
      "Generated Question: Can you demonstrate using f-strings to format a number to 3 decimal places?\n",
      "Generated Answer: Certainly! To format a number to 3 decimal places using an f-string, you can use the following syntax:\n",
      "\n",
      "```python\n",
      "average_mark = 92.34567\n",
      "formatted_output = f'Average mark for the Homework is {average_mark:.3f}'\n",
      "print(formatted_output)\n",
      "```\n",
      "\n",
      "This will output:\n",
      "\n",
      "```\n",
      "Average mark for the Homework is 92.346\n",
      "```\n",
      "\n",
      "The `:.3f` within the f-string specifies that the number should be formatted to 3 decimal places.\n",
      "\n",
      "Please analyze the content and context of the generated answer in relation to the original\n",
      "answer and provide your evaluation in parsable JSON without using code blocks:\n",
      "\n",
      "{\n",
      "  \"Relevance\": \"NON_RELEVANT\" | \"PARTLY_RELEVANT\" | \"RELEVANT\",\n",
      "  \"Explanation\": \"[Provide a brief explanation for your evaluation]\"\n",
      "}\n"
     ]
    }
   ],
   "source": [
    "prompt = prompt1_template.format(**record)\n",
    "print(prompt)"
   ]
  },
  {
   "cell_type": "code",
   "execution_count": 64,
   "id": "e9d18a6b-6da3-45af-ac97-119d76340cfe",
   "metadata": {},
   "outputs": [],
   "source": [
    "answer = llm(prompt, model='llama-3.1-sonar-small-128k-online')"
   ]
  },
  {
   "cell_type": "code",
   "execution_count": 65,
   "id": "0d09d46a-c8b9-4bae-857e-2d7dc654df4f",
   "metadata": {},
   "outputs": [],
   "source": [
    "import json"
   ]
  },
  {
   "cell_type": "code",
   "execution_count": 68,
   "id": "5d155132-f68a-429e-b38b-dd0644859f07",
   "metadata": {},
   "outputs": [
    {
     "data": {
      "application/vnd.jupyter.widget-view+json": {
       "model_id": "9214a0cce86a4623b9eab51cc67117ff",
       "version_major": 2,
       "version_minor": 0
      },
      "text/plain": [
       "  0%|          | 0/10 [00:00<?, ?it/s]"
      ]
     },
     "metadata": {},
     "output_type": "display_data"
    }
   ],
   "source": [
    "evaluations = []\n",
    "\n",
    "for record in tqdm(samples):\n",
    "    prompt = prompt1_template.format(**record)\n",
    "    evaluation = llm(prompt, model='llama-3.1-sonar-small-128k-online')\n",
    "    evaluations.append(evaluation)"
   ]
  },
  {
   "cell_type": "code",
   "execution_count": 77,
   "id": "99db9999-f80c-4f84-8923-ea68f4a8ce6c",
   "metadata": {},
   "outputs": [],
   "source": [
    "# json_evaluations = []\n",
    "\n",
    "# for i, str_eval in enumerate(evaluations):\n",
    "#     json_eval = json.loads(str_eval)\n",
    "#     json_evaluations.append(json_eval)"
   ]
  },
  {
   "cell_type": "code",
   "execution_count": 75,
   "id": "13edc65a-64d4-4540-889c-e542c73eee72",
   "metadata": {},
   "outputs": [],
   "source": [
    "# df_evaluations = pd.DataFrame(evaluations)\n",
    "# df_evaluations"
   ]
  },
  {
   "cell_type": "code",
   "execution_count": 76,
   "id": "ee312b3e-a7df-4dcf-99a6-4abfddf33a63",
   "metadata": {},
   "outputs": [],
   "source": [
    "# df_evaluations.Relevance.value_counts()"
   ]
  },
  {
   "cell_type": "code",
   "execution_count": null,
   "id": "c750fa06-bba1-4fcf-bcd4-86154c39b847",
   "metadata": {},
   "outputs": [],
   "source": []
  }
 ],
 "metadata": {
  "kernelspec": {
   "display_name": "Python 3 (ipykernel)",
   "language": "python",
   "name": "python3"
  },
  "language_info": {
   "codemirror_mode": {
    "name": "ipython",
    "version": 3
   },
   "file_extension": ".py",
   "mimetype": "text/x-python",
   "name": "python",
   "nbconvert_exporter": "python",
   "pygments_lexer": "ipython3",
   "version": "3.10.13"
  }
 },
 "nbformat": 4,
 "nbformat_minor": 5
}
