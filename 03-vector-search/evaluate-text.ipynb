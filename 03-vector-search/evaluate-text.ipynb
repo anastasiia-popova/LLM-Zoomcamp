{
 "cells": [
  {
   "cell_type": "code",
   "execution_count": 1,
   "id": "85c1b28c-9da1-49e6-a0e1-32f3c4f7ab3f",
   "metadata": {},
   "outputs": [],
   "source": [
    "import json\n",
    "\n",
    "with open('documents-with-ids.json', 'rt') as f_in:\n",
    "    documents = json.load(f_in)"
   ]
  },
  {
   "cell_type": "code",
   "execution_count": 2,
   "id": "b2617ef4-6f7a-4cea-9950-44b68833ded8",
   "metadata": {},
   "outputs": [
    {
     "data": {
      "text/plain": [
       "ObjectApiResponse({'acknowledged': True, 'shards_acknowledged': True, 'index': 'course-questions'})"
      ]
     },
     "execution_count": 2,
     "metadata": {},
     "output_type": "execute_result"
    }
   ],
   "source": [
    "from elasticsearch import Elasticsearch\n",
    "\n",
    "es_client = Elasticsearch('http://localhost:9200') \n",
    "\n",
    "index_settings = {\n",
    "    \"settings\": {\n",
    "        \"number_of_shards\": 1,\n",
    "        \"number_of_replicas\": 0\n",
    "    },\n",
    "    \"mappings\": {\n",
    "        \"properties\": {\n",
    "            \"text\": {\"type\": \"text\"},\n",
    "            \"section\": {\"type\": \"text\"},\n",
    "            \"question\": {\"type\": \"text\"},\n",
    "            \"course\": {\"type\": \"keyword\"},\n",
    "            \"id\": {\"type\": \"keyword\"},\n",
    "        }\n",
    "    }\n",
    "}\n",
    "\n",
    "index_name = \"course-questions\"\n",
    "\n",
    "es_client.indices.delete(index=index_name, ignore_unavailable=True)\n",
    "es_client.indices.create(index=index_name, body=index_settings)"
   ]
  },
  {
   "cell_type": "code",
   "execution_count": 3,
   "id": "0b2ac7e1-a670-44a4-855d-6ac58d456f6d",
   "metadata": {},
   "outputs": [
    {
     "data": {
      "application/vnd.jupyter.widget-view+json": {
       "model_id": "5925a9d7226d4c7fb5588d7ce9a1c62b",
       "version_major": 2,
       "version_minor": 0
      },
      "text/plain": [
       "  0%|          | 0/1010 [00:00<?, ?it/s]"
      ]
     },
     "metadata": {},
     "output_type": "display_data"
    }
   ],
   "source": [
    "from tqdm.auto import tqdm\n",
    "\n",
    "for doc in tqdm(documents):\n",
    "    es_client.index(index=index_name, document=doc)"
   ]
  },
  {
   "cell_type": "code",
   "execution_count": 4,
   "id": "8c45f26e-0649-4752-abfa-66fe9ddef73a",
   "metadata": {},
   "outputs": [],
   "source": [
    "def elastic_search(query, course):\n",
    "    search_query = {\n",
    "        \"size\": 5,\n",
    "        \"query\": {\n",
    "            \"bool\": {\n",
    "                \"must\": {\n",
    "                    \"multi_match\": {\n",
    "                        \"query\": query,\n",
    "                        \"fields\": [\"question^3\", \"text\", \"section\"],\n",
    "                        \"type\": \"best_fields\"\n",
    "                    }\n",
    "                },\n",
    "                \"filter\": {\n",
    "                    \"term\": {\n",
    "                        \"course\": course\n",
    "                    }\n",
    "                }\n",
    "            }\n",
    "        }\n",
    "    }\n",
    "\n",
    "    response = es_client.search(index=index_name, body=search_query)\n",
    "    \n",
    "    result_docs = []\n",
    "    \n",
    "    for hit in response['hits']['hits']:\n",
    "        result_docs.append(hit['_source'])\n",
    "    \n",
    "    return result_docs"
   ]
  },
  {
   "cell_type": "code",
   "execution_count": 5,
   "id": "2b001ff8-487c-47ea-ac5c-50f4269551ba",
   "metadata": {},
   "outputs": [],
   "source": [
    "import pandas as pd "
   ]
  },
  {
   "cell_type": "code",
   "execution_count": 6,
   "id": "c141ff30-137d-4e9b-bde1-85c0ea2582ec",
   "metadata": {},
   "outputs": [],
   "source": [
    "df_ground_truth = pd.read_csv(\"ground-truth-data.csv\")"
   ]
  },
  {
   "cell_type": "code",
   "execution_count": 7,
   "id": "74ceee77-0410-40c6-9269-eb366706c4a7",
   "metadata": {},
   "outputs": [
    {
     "data": {
      "text/html": [
       "<div>\n",
       "<style scoped>\n",
       "    .dataframe tbody tr th:only-of-type {\n",
       "        vertical-align: middle;\n",
       "    }\n",
       "\n",
       "    .dataframe tbody tr th {\n",
       "        vertical-align: top;\n",
       "    }\n",
       "\n",
       "    .dataframe thead th {\n",
       "        text-align: right;\n",
       "    }\n",
       "</style>\n",
       "<table border=\"1\" class=\"dataframe\">\n",
       "  <thead>\n",
       "    <tr style=\"text-align: right;\">\n",
       "      <th></th>\n",
       "      <th>question</th>\n",
       "      <th>course</th>\n",
       "      <th>document</th>\n",
       "    </tr>\n",
       "  </thead>\n",
       "  <tbody>\n",
       "    <tr>\n",
       "      <th>0</th>\n",
       "      <td>When does the course begin?</td>\n",
       "      <td>data-engineering-zoomcamp</td>\n",
       "      <td>c02e79ef</td>\n",
       "    </tr>\n",
       "    <tr>\n",
       "      <th>1</th>\n",
       "      <td>How can I get the course schedule?</td>\n",
       "      <td>data-engineering-zoomcamp</td>\n",
       "      <td>c02e79ef</td>\n",
       "    </tr>\n",
       "    <tr>\n",
       "      <th>2</th>\n",
       "      <td>What is the link for course registration?</td>\n",
       "      <td>data-engineering-zoomcamp</td>\n",
       "      <td>c02e79ef</td>\n",
       "    </tr>\n",
       "    <tr>\n",
       "      <th>3</th>\n",
       "      <td>How can I receive course announcements?</td>\n",
       "      <td>data-engineering-zoomcamp</td>\n",
       "      <td>c02e79ef</td>\n",
       "    </tr>\n",
       "    <tr>\n",
       "      <th>4</th>\n",
       "      <td>Where do I join the Slack channel?</td>\n",
       "      <td>data-engineering-zoomcamp</td>\n",
       "      <td>c02e79ef</td>\n",
       "    </tr>\n",
       "    <tr>\n",
       "      <th>...</th>\n",
       "      <td>...</td>\n",
       "      <td>...</td>\n",
       "      <td>...</td>\n",
       "    </tr>\n",
       "    <tr>\n",
       "      <th>4545</th>\n",
       "      <td>How should I destroy infrastructure created us...</td>\n",
       "      <td>mlops-zoomcamp</td>\n",
       "      <td>886d1617</td>\n",
       "    </tr>\n",
       "    <tr>\n",
       "      <th>4546</th>\n",
       "      <td>What is the first step to destroy AWS infrastr...</td>\n",
       "      <td>mlops-zoomcamp</td>\n",
       "      <td>886d1617</td>\n",
       "    </tr>\n",
       "    <tr>\n",
       "      <th>4547</th>\n",
       "      <td>Can I destroy infrastructure created with GitH...</td>\n",
       "      <td>mlops-zoomcamp</td>\n",
       "      <td>886d1617</td>\n",
       "    </tr>\n",
       "    <tr>\n",
       "      <th>4548</th>\n",
       "      <td>What command initializes Terraform with specif...</td>\n",
       "      <td>mlops-zoomcamp</td>\n",
       "      <td>886d1617</td>\n",
       "    </tr>\n",
       "    <tr>\n",
       "      <th>4549</th>\n",
       "      <td>How do you specify the variable file when runn...</td>\n",
       "      <td>mlops-zoomcamp</td>\n",
       "      <td>886d1617</td>\n",
       "    </tr>\n",
       "  </tbody>\n",
       "</table>\n",
       "<p>4550 rows × 3 columns</p>\n",
       "</div>"
      ],
      "text/plain": [
       "                                               question  \\\n",
       "0                           When does the course begin?   \n",
       "1                    How can I get the course schedule?   \n",
       "2             What is the link for course registration?   \n",
       "3               How can I receive course announcements?   \n",
       "4                    Where do I join the Slack channel?   \n",
       "...                                                 ...   \n",
       "4545  How should I destroy infrastructure created us...   \n",
       "4546  What is the first step to destroy AWS infrastr...   \n",
       "4547  Can I destroy infrastructure created with GitH...   \n",
       "4548  What command initializes Terraform with specif...   \n",
       "4549  How do you specify the variable file when runn...   \n",
       "\n",
       "                         course  document  \n",
       "0     data-engineering-zoomcamp  c02e79ef  \n",
       "1     data-engineering-zoomcamp  c02e79ef  \n",
       "2     data-engineering-zoomcamp  c02e79ef  \n",
       "3     data-engineering-zoomcamp  c02e79ef  \n",
       "4     data-engineering-zoomcamp  c02e79ef  \n",
       "...                         ...       ...  \n",
       "4545             mlops-zoomcamp  886d1617  \n",
       "4546             mlops-zoomcamp  886d1617  \n",
       "4547             mlops-zoomcamp  886d1617  \n",
       "4548             mlops-zoomcamp  886d1617  \n",
       "4549             mlops-zoomcamp  886d1617  \n",
       "\n",
       "[4550 rows x 3 columns]"
      ]
     },
     "execution_count": 7,
     "metadata": {},
     "output_type": "execute_result"
    }
   ],
   "source": [
    "df_ground_truth"
   ]
  },
  {
   "cell_type": "code",
   "execution_count": 8,
   "id": "3534659b-95c8-48df-a76d-92ebb17fa48e",
   "metadata": {},
   "outputs": [],
   "source": [
    "ground_truth = df_ground_truth.to_dict(orient=\"records\")\n",
    "#ground_truth"
   ]
  },
  {
   "cell_type": "code",
   "execution_count": 9,
   "id": "7d3b3418-2012-4f7a-a2ce-145d72ff9cd1",
   "metadata": {},
   "outputs": [
    {
     "data": {
      "application/vnd.jupyter.widget-view+json": {
       "model_id": "cce25c4c483748a2a081057102374d0c",
       "version_major": 2,
       "version_minor": 0
      },
      "text/plain": [
       "  0%|          | 0/4550 [00:00<?, ?it/s]"
      ]
     },
     "metadata": {},
     "output_type": "display_data"
    }
   ],
   "source": [
    "relevance_total = []\n",
    "\n",
    "for q in tqdm(ground_truth):\n",
    "    doc_id = q[\"document\"]\n",
    "    results = elastic_search(query=q[\"question\"], course = q[\"course\"] )\n",
    "    # check if doc id in the results, highly not optimal  solution\n",
    "    relevance = [d['id'] == doc_id for d in results]\n",
    "    relevance_total.append(relevance)\n",
    "     "
   ]
  },
  {
   "cell_type": "code",
   "execution_count": 10,
   "id": "2c23a355-8db4-4544-85c5-1cb2c26143d6",
   "metadata": {},
   "outputs": [
    {
     "data": {
      "text/plain": [
       "[True, False, False, False, False]"
      ]
     },
     "execution_count": 10,
     "metadata": {},
     "output_type": "execute_result"
    }
   ],
   "source": [
    "relevance"
   ]
  },
  {
   "cell_type": "markdown",
   "id": "0001df82-27ac-49e3-a9e0-1707e27d0b0c",
   "metadata": {},
   "source": [
    "*from [PerplexityAI](https://www.perplexity.ai)*\n",
    "\n",
    "---\n",
    "\n",
    "To evaluate the performance of RAG systems, two key metrics are often used: hit rate and Mean Reciprocal Rank (MRR).\n",
    "\n",
    "## Hit Rate\n",
    "\n",
    "The hit rate is a metric traditionally associated with sales performance, but it can be adapted to evaluate RAG systems as well. In the context of RAGs, the hit rate can be defined as follows:\n",
    "\n",
    "**Hit Rate = Number of Successful Retrievals / Total Number of Queries**\n",
    "\n",
    "A successful retrieval occurs when the RAG system retrieves relevant information that contributes to generating an accurate response. The hit rate provides a straightforward measure of how often the system successfully retrieves useful information.\n",
    "\n",
    "**Key points about hit rate:**\n",
    "\n",
    "- It's expressed as a percentage, ranging from 0% to 100%.\n",
    "- A higher hit rate indicates better performance of the retrieval component.\n",
    "- It can be used to compare different RAG systems or to track improvements over time.\n",
    "- The definition of a \"successful retrieval\" may vary depending on the specific application and requirements.\n",
    "\n",
    "## Mean Reciprocal Rank (MRR)\n",
    "\n",
    "MRR is a more nuanced metric that takes into account not just whether relevant information was retrieved, but also its position in the list of retrieved items. It's particularly useful for evaluating ranking systems, including those used in RAGs.\n",
    "\n",
    "The formula for MRR is:\n",
    "\n",
    "$$MRR = \\frac{1}{|Q|} \\sum_{i=1}^{|Q|} \\frac{1}{rank_i}$$\n",
    "\n",
    "Where:\n",
    "- |Q| is the total number of queries\n",
    "- rank_i is the position of the first relevant item for query $i$, for example, for query=[False, False, True, False, False] rank_i=3\n",
    "\n",
    "**Key points about MRR:**\n",
    "\n",
    "- MRR ranges from 0 to 1, with 1 being the best possible score.\n",
    "- It emphasizes the importance of ranking relevant information higher in the list of retrieved items.\n",
    "- MRR is particularly useful when only the first relevant result matters, as it focuses on the rank of the first correct answer.\n",
    "- It's often used in information retrieval systems, question-answering systems, and recommendation systems[3][6].\n",
    "\n",
    "## Applying Hit Rate and MRR to RAGs\n",
    "\n",
    "When evaluating RAG systems, both hit rate and MRR can provide valuable insights:\n",
    "\n",
    "1. **Hit Rate for RAGs**: This metric can help assess how often the RAG system successfully retrieves relevant information from its external knowledge base. A high hit rate indicates that the system is effectively finding and utilizing external information to augment its responses.\n",
    "\n",
    "2. **MRR for RAGs**: MRR can be used to evaluate the ranking capability of the RAG system. It helps determine how well the system prioritizes the most relevant information. A high MRR suggests that the system not only retrieves relevant information but also ranks it appropriately, ensuring that the most useful data is readily available for generating responses.\n",
    "\n",
    "3. **Combined Analysis**: Using both metrics together can provide a more comprehensive evaluation. While hit rate gives an overall success rate, MRR offers insights into the quality of the ranking. A system with a high hit rate but low MRR might be retrieving relevant information but failing to prioritize it effectively.\n",
    "\n",
    "4. **Benchmarking and Improvement**: These metrics can be used to compare different RAG implementations, track improvements over time, and identify areas for optimization. For example, if the hit rate is high but MRR is low, efforts might focus on improving the ranking algorithm.\n",
    "\n",
    "5. **Context-Specific Evaluation**: The interpretation of these metrics can vary depending on the specific application of the RAG system. For instance, in a customer service chatbot, a very high MRR might be crucial to ensure that the most relevant information is immediately available to address customer queries.\n",
    "\n",
    "By utilizing both hit rate and MRR, developers and researchers can gain a nuanced understanding of their RAG system's performance, helping to guide improvements and ensure that the system effectively leverages external knowledge to enhance its responses[1][4].\n",
    "\n",
    "Citations:\n",
    "* [1] https://blogs.nvidia.com/blog/what-is-retrieval-augmented-generation/\n",
    "* [2] https://en.wikipedia.org/wiki/Hit_rate\n",
    "* [3] https://ru.wikipedia.org/wiki/%D0%A1%D1%80%D0%B5%D0%B4%D0%BD%D0%B5%D0%BE%D0%B1%D1%80%D0%B0%D1%82%D0%BD%D1%8B%D0%B9_%D1%80%D0%B0%D0%BD%D0%B3\n",
    "* [4] https://cloud.google.com/use-cases/retrieval-augmented-generation\n",
    "* [5] https://1up.ai/sales-hit-rate/\n",
    "* [6] https://www.evidentlyai.com/ranking-metrics/mean-reciprocal-rank-mrr\n"
   ]
  },
  {
   "cell_type": "code",
   "execution_count": 24,
   "id": "64cb2aba-58a0-49c6-9982-a1e057bbe856",
   "metadata": {},
   "outputs": [],
   "source": [
    "example = [\n",
    "    [True, False, False, False, False], # 1, \n",
    "    [False, False, False, False, False], # 0\n",
    "    [False, False, False, False, False], # 0 \n",
    "    [False, False, False, False, False], # 0\n",
    "    [False, False, False, False, False], # 0 \n",
    "    [True, False, False, False, False], # 1\n",
    "    [True, False, False, False, False], # 1\n",
    "    [True, False, False, False, False], # 1\n",
    "    [True, False, False, False, False], # 1\n",
    "    [True, False, False, False, False], # 1 \n",
    "    [False, False, True, False, False],  # 1\n",
    "    [False, False, False, False, False], # 0\n",
    "]\n"
   ]
  },
  {
   "cell_type": "code",
   "execution_count": 21,
   "id": "763f053f-f20f-46cf-b002-d8d2c7505c1d",
   "metadata": {},
   "outputs": [],
   "source": [
    "def hit_rate(relevance_total):\n",
    "    count = 0\n",
    "\n",
    "    for line in relevance_total:\n",
    "        if True in line:\n",
    "            count = count + 1\n",
    "\n",
    "    return count / len(relevance_total)\n",
    "\n",
    "def mrr(relevance_total):\n",
    "    score = 0 \n",
    "    for q in relevance_total:\n",
    "        for rank in range(len(q)):\n",
    "            if q[rank] == True:\n",
    "                score += 1/(rank+1)\n",
    "        \n",
    "    return score / len(relevance_total)"
   ]
  },
  {
   "cell_type": "code",
   "execution_count": 22,
   "id": "79fcdc2b-b6fc-4597-bd13-906b3c304dc0",
   "metadata": {},
   "outputs": [
    {
     "name": "stdout",
     "output_type": "stream",
     "text": [
      "Hit Rate: 0.5833333333333334\n",
      "MRR: 0.5277777777777778\n"
     ]
    }
   ],
   "source": [
    "print(\"Hit Rate:\", hit_rate(example))\n",
    "print('MRR:', mrr(example))"
   ]
  },
  {
   "cell_type": "code",
   "execution_count": 23,
   "id": "4846b97f-5e01-4801-9a43-81c58ebd1733",
   "metadata": {},
   "outputs": [
    {
     "name": "stdout",
     "output_type": "stream",
     "text": [
      "Hit Rate: 0.7345054945054945\n",
      "MRR: 0.5994725274725281\n"
     ]
    }
   ],
   "source": [
    "print(\"Hit Rate:\", hit_rate(relevance_total))\n",
    "print('MRR:', mrr(relevance_total))"
   ]
  },
  {
   "cell_type": "code",
   "execution_count": null,
   "id": "d9e64c44-e331-4c77-b0ba-c68b8ae1f884",
   "metadata": {},
   "outputs": [],
   "source": []
  }
 ],
 "metadata": {
  "kernelspec": {
   "display_name": "Python 3 (ipykernel)",
   "language": "python",
   "name": "python3"
  },
  "language_info": {
   "codemirror_mode": {
    "name": "ipython",
    "version": 3
   },
   "file_extension": ".py",
   "mimetype": "text/x-python",
   "name": "python",
   "nbconvert_exporter": "python",
   "pygments_lexer": "ipython3",
   "version": "3.10.13"
  }
 },
 "nbformat": 4,
 "nbformat_minor": 5
}
